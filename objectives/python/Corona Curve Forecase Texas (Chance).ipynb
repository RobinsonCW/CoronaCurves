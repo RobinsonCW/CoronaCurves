{
 "cells": [
  {
   "cell_type": "markdown",
   "metadata": {},
   "source": [
    "# Can You Forecast Daily New Covid Cases in Texas?"
   ]
  },
  {
   "cell_type": "markdown",
   "metadata": {},
   "source": [
    "## The Datasets\n",
    "* The data sets include daily new covid case count curves for TX, NY, and NJ:\n",
    " * **TX_Corona_Curve.csv** - 06/19/2020 - 07/06/2020, 18 days data, incomplete curve.\n",
    " * **NY_Corona_Curve.csv** - 03/20/2020 - 05/05/2020, 48 days data, completed curve.\n",
    " * **NJ_Corona_Curve.csv** - 03/26/2020 - 05/18/2020, 54 days data, completed curve.\n",
    " * **Corona_Curves_TX_NY_NJ.csv** - All the data above combined and normalized using each state's population.  \n",
    " \n",
    "* This data was painfully collected from the daily new case counts graphs at: \n",
    " * https://www.worldometers.info/coronavirus/usa/texas/\n",
    " * https://www.worldometers.info/coronavirus/usa/new-york/\n",
    " * https://www.worldometers.info/coronavirus/usa/new-jersey/\n",
    "\n",
    "## Data Definitions\n",
    "* **Pop_Pct** - Represents the % of each respective state's population for the daily new case count (daily new cases / state population)\n",
    "* **Curve_Day** - Curve day 1 starts when the daily new case count rises above a 0.00015 case to state population ratio.  The curve finishes when the daily new case count falls below a 0.00015 case to state population ratio.    \n",
    "* **Cases** - The number of daily new Covid Cases for each state. The raw counts are only in the state level files. \n",
    "* **Pct_Change** - The change in this percentage for the prior day. (Pop_Pct - Previous day's Pop_Pct) \n",
    "* **M1 thru M7** - The prior value minus 1 to minus 7 days ago. \n",
    "* **Three_Day_Avg** - The 3 day average including today's value.\n",
    "* **Seven_Day_Avg** - The 7 day average including today's value.\n",
    "\n",
    "## NOTE!\n",
    "**This notebook is not intended to show you the best way to forecast the curve, but rather to introduce you to a few tools that may help you do so.**"
   ]
  },
  {
   "cell_type": "code",
   "execution_count": 20,
   "metadata": {},
   "outputs": [],
   "source": [
    "#import required Libraries\n",
    "import pandas as pd\n",
    "import numpy as np\n",
    "import plotly.express as px\n",
    "from statsmodels.tsa.seasonal import seasonal_decompose\n",
    "\n",
    "import chart_studio.plotly as plt"
   ]
  },
  {
   "cell_type": "code",
   "execution_count": 2,
   "metadata": {},
   "outputs": [],
   "source": [
    "df_corona = pd.read_csv(\"../../data/Corona_Curves_TX_NY_NJ.csv\", low_memory=False)\n",
    "df_corona[\"Date\"] = pd.to_datetime(df_corona[\"Date\"])\n",
    "df_corona.sort_values(by=['Date'], inplace=True)\n"
   ]
  },
  {
   "cell_type": "code",
   "execution_count": 3,
   "metadata": {
    "tags": []
   },
   "outputs": [
    {
     "output_type": "stream",
     "name": "stdout",
     "text": "<class 'pandas.core.frame.DataFrame'>\nInt64Index: 119 entries, 18 to 17\nData columns (total 24 columns):\n #   Column                 Non-Null Count  Dtype         \n---  ------                 --------------  -----         \n 0   State                  119 non-null    object        \n 1   Date                   119 non-null    datetime64[ns]\n 2   Daily_New_Cases        119 non-null    int64         \n 3   Curve_Day              119 non-null    int64         \n 4   Pop_Pct                119 non-null    float64       \n 5   Pop_Pct_M1             119 non-null    float64       \n 6   Pop_Pct_M2             119 non-null    float64       \n 7   Pop_Pct_M3             119 non-null    float64       \n 8   Pop_Pct_M4             119 non-null    float64       \n 9   Pop_Pct_M5             119 non-null    float64       \n 10  Pop_Pct_M6             119 non-null    float64       \n 11  Pop_Pct_M7             119 non-null    float64       \n 12  Three_Day_Avg_Pop_Pct  119 non-null    float64       \n 13  Seven_Day_Avg_Pop_Pct  119 non-null    float64       \n 14  Pct_Change             119 non-null    float64       \n 15  Pct_Change_M1          119 non-null    float64       \n 16  Pct_Change_M2          119 non-null    float64       \n 17  Pct_Change_M3          119 non-null    float64       \n 18  Pct_Change_M4          119 non-null    float64       \n 19  Pct_Change_M5          119 non-null    float64       \n 20  Pct_Change_M6          119 non-null    float64       \n 21  Pct_Change_M7          119 non-null    float64       \n 22  Three_Day_Avg_Pct_Chg  119 non-null    float64       \n 23  Seven_Day_Avg_Pct_Chg  119 non-null    float64       \ndtypes: datetime64[ns](1), float64(20), int64(2), object(1)\nmemory usage: 23.2+ KB\n"
    }
   ],
   "source": [
    "df_corona.info()"
   ]
  },
  {
   "cell_type": "markdown",
   "metadata": {},
   "source": [
    "## What does the data look like?"
   ]
  },
  {
   "cell_type": "code",
   "execution_count": 5,
   "metadata": {},
   "outputs": [
    {
     "output_type": "execute_result",
     "data": {
      "text/plain": "   index State       Date  Daily_New_Cases  Curve_Day   Pop_Pct  Pop_Pct_M1  \\\n0     18    NY 2020-03-20             3052          1  0.000162    0.000124   \n1     19    NY 2020-03-21             1993          2  0.000106    0.000162   \n2     20    NY 2020-03-22             5440          3  0.000289    0.000106   \n3     21    NY 2020-03-23             5123          4  0.000272    0.000289   \n4     22    NY 2020-03-24             5516          5  0.000293    0.000272   \n\n   Pop_Pct_M2  Pop_Pct_M3  Pop_Pct_M4  ...  Pct_Change  Pct_Change_M1  \\\n0    0.000071    0.000039    0.000012  ...    0.000038       0.000053   \n1    0.000124    0.000071    0.000039  ...   -0.000056       0.000038   \n2    0.000162    0.000124    0.000071  ...    0.000183      -0.000056   \n3    0.000106    0.000162    0.000124  ...   -0.000017       0.000183   \n4    0.000289    0.000106    0.000162  ...    0.000021      -0.000017   \n\n   Pct_Change_M2  Pct_Change_M3  Pct_Change_M4  Pct_Change_M5  Pct_Change_M6  \\\n0       0.000032       0.000027       0.000001       0.000006   7.450000e-07   \n1       0.000053       0.000032       0.000027       0.000001   5.584000e-06   \n2       0.000038       0.000053       0.000032       0.000027   1.223000e-06   \n3      -0.000056       0.000038       0.000053       0.000032   2.696200e-05   \n4       0.000183      -0.000056       0.000038       0.000053   3.190800e-05   \n\n   Pct_Change_M7  Three_Day_Avg_Pct_Chg  Seven_Day_Avg_Pct_Chg  \n0   0.000000e+00                0.00004                0.00002  \n1   7.450000e-07                0.00001                0.00001  \n2   5.584000e-06                0.00005                0.00004  \n3   1.223000e-06                0.00004                0.00004  \n4   2.696200e-05                0.00006                0.00004  \n\n[5 rows x 25 columns]",
      "text/html": "<div>\n<style scoped>\n    .dataframe tbody tr th:only-of-type {\n        vertical-align: middle;\n    }\n\n    .dataframe tbody tr th {\n        vertical-align: top;\n    }\n\n    .dataframe thead th {\n        text-align: right;\n    }\n</style>\n<table border=\"1\" class=\"dataframe\">\n  <thead>\n    <tr style=\"text-align: right;\">\n      <th></th>\n      <th>index</th>\n      <th>State</th>\n      <th>Date</th>\n      <th>Daily_New_Cases</th>\n      <th>Curve_Day</th>\n      <th>Pop_Pct</th>\n      <th>Pop_Pct_M1</th>\n      <th>Pop_Pct_M2</th>\n      <th>Pop_Pct_M3</th>\n      <th>Pop_Pct_M4</th>\n      <th>...</th>\n      <th>Pct_Change</th>\n      <th>Pct_Change_M1</th>\n      <th>Pct_Change_M2</th>\n      <th>Pct_Change_M3</th>\n      <th>Pct_Change_M4</th>\n      <th>Pct_Change_M5</th>\n      <th>Pct_Change_M6</th>\n      <th>Pct_Change_M7</th>\n      <th>Three_Day_Avg_Pct_Chg</th>\n      <th>Seven_Day_Avg_Pct_Chg</th>\n    </tr>\n  </thead>\n  <tbody>\n    <tr>\n      <th>0</th>\n      <td>18</td>\n      <td>NY</td>\n      <td>2020-03-20</td>\n      <td>3052</td>\n      <td>1</td>\n      <td>0.000162</td>\n      <td>0.000124</td>\n      <td>0.000071</td>\n      <td>0.000039</td>\n      <td>0.000012</td>\n      <td>...</td>\n      <td>0.000038</td>\n      <td>0.000053</td>\n      <td>0.000032</td>\n      <td>0.000027</td>\n      <td>0.000001</td>\n      <td>0.000006</td>\n      <td>7.450000e-07</td>\n      <td>0.000000e+00</td>\n      <td>0.00004</td>\n      <td>0.00002</td>\n    </tr>\n    <tr>\n      <th>1</th>\n      <td>19</td>\n      <td>NY</td>\n      <td>2020-03-21</td>\n      <td>1993</td>\n      <td>2</td>\n      <td>0.000106</td>\n      <td>0.000162</td>\n      <td>0.000124</td>\n      <td>0.000071</td>\n      <td>0.000039</td>\n      <td>...</td>\n      <td>-0.000056</td>\n      <td>0.000038</td>\n      <td>0.000053</td>\n      <td>0.000032</td>\n      <td>0.000027</td>\n      <td>0.000001</td>\n      <td>5.584000e-06</td>\n      <td>7.450000e-07</td>\n      <td>0.00001</td>\n      <td>0.00001</td>\n    </tr>\n    <tr>\n      <th>2</th>\n      <td>20</td>\n      <td>NY</td>\n      <td>2020-03-22</td>\n      <td>5440</td>\n      <td>3</td>\n      <td>0.000289</td>\n      <td>0.000106</td>\n      <td>0.000162</td>\n      <td>0.000124</td>\n      <td>0.000071</td>\n      <td>...</td>\n      <td>0.000183</td>\n      <td>-0.000056</td>\n      <td>0.000038</td>\n      <td>0.000053</td>\n      <td>0.000032</td>\n      <td>0.000027</td>\n      <td>1.223000e-06</td>\n      <td>5.584000e-06</td>\n      <td>0.00005</td>\n      <td>0.00004</td>\n    </tr>\n    <tr>\n      <th>3</th>\n      <td>21</td>\n      <td>NY</td>\n      <td>2020-03-23</td>\n      <td>5123</td>\n      <td>4</td>\n      <td>0.000272</td>\n      <td>0.000289</td>\n      <td>0.000106</td>\n      <td>0.000162</td>\n      <td>0.000124</td>\n      <td>...</td>\n      <td>-0.000017</td>\n      <td>0.000183</td>\n      <td>-0.000056</td>\n      <td>0.000038</td>\n      <td>0.000053</td>\n      <td>0.000032</td>\n      <td>2.696200e-05</td>\n      <td>1.223000e-06</td>\n      <td>0.00004</td>\n      <td>0.00004</td>\n    </tr>\n    <tr>\n      <th>4</th>\n      <td>22</td>\n      <td>NY</td>\n      <td>2020-03-24</td>\n      <td>5516</td>\n      <td>5</td>\n      <td>0.000293</td>\n      <td>0.000272</td>\n      <td>0.000289</td>\n      <td>0.000106</td>\n      <td>0.000162</td>\n      <td>...</td>\n      <td>0.000021</td>\n      <td>-0.000017</td>\n      <td>0.000183</td>\n      <td>-0.000056</td>\n      <td>0.000038</td>\n      <td>0.000053</td>\n      <td>3.190800e-05</td>\n      <td>2.696200e-05</td>\n      <td>0.00006</td>\n      <td>0.00004</td>\n    </tr>\n  </tbody>\n</table>\n<p>5 rows × 25 columns</p>\n</div>"
     },
     "metadata": {},
     "execution_count": 5
    }
   ],
   "source": [
    "pd.set_option('display.max_rows', 500)\n",
    "df_corona = df_corona.reset_index()\n",
    "df_corona.head()"
   ]
  },
  {
   "cell_type": "code",
   "execution_count": 37,
   "metadata": {},
   "outputs": [
    {
     "output_type": "display_data",
     "data": {
      "application/vnd.plotly.v1+json": {
       "config": {
        "plotlyServerURL": "https://plot.ly"
       },
       "data": [
        {
         "hovertemplate": "State=NY<br>Date=%{x}<br>Daily_New_Cases=%{y}<extra></extra>",
         "legendgroup": "NY",
         "line": {
          "color": "#636efa",
          "dash": "solid"
         },
         "mode": "lines",
         "name": "NY",
         "showlegend": true,
         "type": "scatter",
         "x": [
          "2020-03-20T00:00:00",
          "2020-03-21T00:00:00",
          "2020-03-22T00:00:00",
          "2020-03-23T00:00:00",
          "2020-03-24T00:00:00",
          "2020-03-25T00:00:00",
          "2020-03-26T00:00:00",
          "2020-03-27T00:00:00",
          "2020-03-28T00:00:00",
          "2020-03-29T00:00:00",
          "2020-03-30T00:00:00",
          "2020-03-31T00:00:00",
          "2020-04-01T00:00:00",
          "2020-04-02T00:00:00",
          "2020-04-03T00:00:00",
          "2020-04-04T00:00:00",
          "2020-04-05T00:00:00",
          "2020-04-06T00:00:00",
          "2020-04-07T00:00:00",
          "2020-04-08T00:00:00",
          "2020-04-09T00:00:00",
          "2020-04-10T00:00:00",
          "2020-04-11T00:00:00",
          "2020-04-12T00:00:00",
          "2020-04-13T00:00:00",
          "2020-04-14T00:00:00",
          "2020-04-15T00:00:00",
          "2020-04-16T00:00:00",
          "2020-04-17T00:00:00",
          "2020-04-18T00:00:00",
          "2020-04-19T00:00:00",
          "2020-04-20T00:00:00",
          "2020-04-21T00:00:00",
          "2020-04-22T00:00:00",
          "2020-04-23T00:00:00",
          "2020-04-24T00:00:00",
          "2020-04-25T00:00:00",
          "2020-04-26T00:00:00",
          "2020-04-27T00:00:00",
          "2020-04-28T00:00:00",
          "2020-04-29T00:00:00",
          "2020-04-30T00:00:00",
          "2020-05-01T00:00:00",
          "2020-05-02T00:00:00",
          "2020-05-03T00:00:00",
          "2020-05-04T00:00:00",
          "2020-05-05T00:00:00"
         ],
         "xaxis": "x",
         "y": [
          3052,
          1993,
          5440,
          5123,
          5516,
          6674,
          6097,
          7380,
          7250,
          7413,
          6785,
          8823,
          8104,
          9353,
          10628,
          11506,
          8477,
          9135,
          10714,
          9000,
          10533,
          11045,
          8969,
          8458,
          6419,
          7614,
          11661,
          7636,
          7753,
          7090,
          6174,
          4879,
          4461,
          5713,
          6313,
          8864,
          10868,
          5678,
          4013,
          3446,
          4708,
          4681,
          4383,
          3991,
          4670,
          3491,
          2765
         ],
         "yaxis": "y"
        },
        {
         "hovertemplate": "State=NJ<br>Date=%{x}<br>Daily_New_Cases=%{y}<extra></extra>",
         "legendgroup": "NJ",
         "line": {
          "color": "#EF553B",
          "dash": "solid"
         },
         "mode": "lines",
         "name": "NJ",
         "showlegend": true,
         "type": "scatter",
         "x": [
          "2020-03-26T00:00:00",
          "2020-03-27T00:00:00",
          "2020-03-28T00:00:00",
          "2020-03-29T00:00:00",
          "2020-03-30T00:00:00",
          "2020-03-31T00:00:00",
          "2020-04-01T00:00:00",
          "2020-04-02T00:00:00",
          "2020-04-03T00:00:00",
          "2020-04-04T00:00:00",
          "2020-04-05T00:00:00",
          "2020-04-06T00:00:00",
          "2020-04-07T00:00:00",
          "2020-04-08T00:00:00",
          "2020-04-09T00:00:00",
          "2020-04-10T00:00:00",
          "2020-04-11T00:00:00",
          "2020-04-12T00:00:00",
          "2020-04-13T00:00:00",
          "2020-04-14T00:00:00",
          "2020-04-15T00:00:00",
          "2020-04-16T00:00:00",
          "2020-04-17T00:00:00",
          "2020-04-18T00:00:00",
          "2020-04-19T00:00:00",
          "2020-04-20T00:00:00",
          "2020-04-21T00:00:00",
          "2020-04-22T00:00:00",
          "2020-04-23T00:00:00",
          "2020-04-24T00:00:00",
          "2020-04-25T00:00:00",
          "2020-04-26T00:00:00",
          "2020-04-27T00:00:00",
          "2020-04-28T00:00:00",
          "2020-04-29T00:00:00",
          "2020-04-30T00:00:00",
          "2020-05-01T00:00:00",
          "2020-05-02T00:00:00",
          "2020-05-03T00:00:00",
          "2020-05-04T00:00:00",
          "2020-05-05T00:00:00",
          "2020-05-06T00:00:00",
          "2020-05-07T00:00:00",
          "2020-05-08T00:00:00",
          "2020-05-09T00:00:00",
          "2020-05-10T00:00:00",
          "2020-05-11T00:00:00",
          "2020-05-12T00:00:00",
          "2020-05-13T00:00:00",
          "2020-05-14T00:00:00",
          "2020-05-15T00:00:00",
          "2020-05-16T00:00:00",
          "2020-05-17T00:00:00",
          "2020-05-18T00:00:00"
         ],
         "xaxis": "x",
         "y": [
          2447,
          1929,
          2276,
          2238,
          3215,
          2045,
          3528,
          3321,
          4268,
          4206,
          3350,
          3554,
          3318,
          3022,
          3574,
          3551,
          3555,
          3687,
          2714,
          2440,
          2229,
          4284,
          3157,
          2949,
          3853,
          3487,
          3590,
          3479,
          4161,
          2171,
          3322,
          3483,
          2139,
          2691,
          2424,
          2423,
          2551,
          2525,
          3692,
          1893,
          2379,
          1377,
          2059,
          2101,
          1369,
          1433,
          1126,
          959,
          798,
          1180,
          1477,
          904,
          1801,
          1879
         ],
         "yaxis": "y"
        },
        {
         "hovertemplate": "State=TX<br>Date=%{x}<br>Daily_New_Cases=%{y}<extra></extra>",
         "legendgroup": "TX",
         "line": {
          "color": "#00cc96",
          "dash": "solid"
         },
         "mode": "lines",
         "name": "TX",
         "showlegend": true,
         "type": "scatter",
         "x": [
          "2020-06-19T00:00:00",
          "2020-06-20T00:00:00",
          "2020-06-21T00:00:00",
          "2020-06-22T00:00:00",
          "2020-06-23T00:00:00",
          "2020-06-24T00:00:00",
          "2020-06-25T00:00:00",
          "2020-06-26T00:00:00",
          "2020-06-27T00:00:00",
          "2020-06-28T00:00:00",
          "2020-06-29T00:00:00",
          "2020-06-30T00:00:00",
          "2020-07-01T00:00:00",
          "2020-07-02T00:00:00",
          "2020-07-03T00:00:00",
          "2020-07-04T00:00:00",
          "2020-07-05T00:00:00",
          "2020-07-06T00:00:00"
         ],
         "xaxis": "x",
         "y": [
          4497,
          4250,
          3125,
          5112,
          5370,
          6177,
          5960,
          5614,
          6079,
          4330,
          6135,
          7959,
          8240,
          7535,
          7343,
          5382,
          5183,
          9054
         ],
         "yaxis": "y"
        }
       ],
       "layout": {
        "legend": {
         "title": {
          "text": "State"
         },
         "tracegroupgap": 0
        },
        "template": {
         "data": {
          "bar": [
           {
            "error_x": {
             "color": "#2a3f5f"
            },
            "error_y": {
             "color": "#2a3f5f"
            },
            "marker": {
             "line": {
              "color": "#E5ECF6",
              "width": 0.5
             }
            },
            "type": "bar"
           }
          ],
          "barpolar": [
           {
            "marker": {
             "line": {
              "color": "#E5ECF6",
              "width": 0.5
             }
            },
            "type": "barpolar"
           }
          ],
          "carpet": [
           {
            "aaxis": {
             "endlinecolor": "#2a3f5f",
             "gridcolor": "white",
             "linecolor": "white",
             "minorgridcolor": "white",
             "startlinecolor": "#2a3f5f"
            },
            "baxis": {
             "endlinecolor": "#2a3f5f",
             "gridcolor": "white",
             "linecolor": "white",
             "minorgridcolor": "white",
             "startlinecolor": "#2a3f5f"
            },
            "type": "carpet"
           }
          ],
          "choropleth": [
           {
            "colorbar": {
             "outlinewidth": 0,
             "ticks": ""
            },
            "type": "choropleth"
           }
          ],
          "contour": [
           {
            "colorbar": {
             "outlinewidth": 0,
             "ticks": ""
            },
            "colorscale": [
             [
              0,
              "#0d0887"
             ],
             [
              0.1111111111111111,
              "#46039f"
             ],
             [
              0.2222222222222222,
              "#7201a8"
             ],
             [
              0.3333333333333333,
              "#9c179e"
             ],
             [
              0.4444444444444444,
              "#bd3786"
             ],
             [
              0.5555555555555556,
              "#d8576b"
             ],
             [
              0.6666666666666666,
              "#ed7953"
             ],
             [
              0.7777777777777778,
              "#fb9f3a"
             ],
             [
              0.8888888888888888,
              "#fdca26"
             ],
             [
              1,
              "#f0f921"
             ]
            ],
            "type": "contour"
           }
          ],
          "contourcarpet": [
           {
            "colorbar": {
             "outlinewidth": 0,
             "ticks": ""
            },
            "type": "contourcarpet"
           }
          ],
          "heatmap": [
           {
            "colorbar": {
             "outlinewidth": 0,
             "ticks": ""
            },
            "colorscale": [
             [
              0,
              "#0d0887"
             ],
             [
              0.1111111111111111,
              "#46039f"
             ],
             [
              0.2222222222222222,
              "#7201a8"
             ],
             [
              0.3333333333333333,
              "#9c179e"
             ],
             [
              0.4444444444444444,
              "#bd3786"
             ],
             [
              0.5555555555555556,
              "#d8576b"
             ],
             [
              0.6666666666666666,
              "#ed7953"
             ],
             [
              0.7777777777777778,
              "#fb9f3a"
             ],
             [
              0.8888888888888888,
              "#fdca26"
             ],
             [
              1,
              "#f0f921"
             ]
            ],
            "type": "heatmap"
           }
          ],
          "heatmapgl": [
           {
            "colorbar": {
             "outlinewidth": 0,
             "ticks": ""
            },
            "colorscale": [
             [
              0,
              "#0d0887"
             ],
             [
              0.1111111111111111,
              "#46039f"
             ],
             [
              0.2222222222222222,
              "#7201a8"
             ],
             [
              0.3333333333333333,
              "#9c179e"
             ],
             [
              0.4444444444444444,
              "#bd3786"
             ],
             [
              0.5555555555555556,
              "#d8576b"
             ],
             [
              0.6666666666666666,
              "#ed7953"
             ],
             [
              0.7777777777777778,
              "#fb9f3a"
             ],
             [
              0.8888888888888888,
              "#fdca26"
             ],
             [
              1,
              "#f0f921"
             ]
            ],
            "type": "heatmapgl"
           }
          ],
          "histogram": [
           {
            "marker": {
             "colorbar": {
              "outlinewidth": 0,
              "ticks": ""
             }
            },
            "type": "histogram"
           }
          ],
          "histogram2d": [
           {
            "colorbar": {
             "outlinewidth": 0,
             "ticks": ""
            },
            "colorscale": [
             [
              0,
              "#0d0887"
             ],
             [
              0.1111111111111111,
              "#46039f"
             ],
             [
              0.2222222222222222,
              "#7201a8"
             ],
             [
              0.3333333333333333,
              "#9c179e"
             ],
             [
              0.4444444444444444,
              "#bd3786"
             ],
             [
              0.5555555555555556,
              "#d8576b"
             ],
             [
              0.6666666666666666,
              "#ed7953"
             ],
             [
              0.7777777777777778,
              "#fb9f3a"
             ],
             [
              0.8888888888888888,
              "#fdca26"
             ],
             [
              1,
              "#f0f921"
             ]
            ],
            "type": "histogram2d"
           }
          ],
          "histogram2dcontour": [
           {
            "colorbar": {
             "outlinewidth": 0,
             "ticks": ""
            },
            "colorscale": [
             [
              0,
              "#0d0887"
             ],
             [
              0.1111111111111111,
              "#46039f"
             ],
             [
              0.2222222222222222,
              "#7201a8"
             ],
             [
              0.3333333333333333,
              "#9c179e"
             ],
             [
              0.4444444444444444,
              "#bd3786"
             ],
             [
              0.5555555555555556,
              "#d8576b"
             ],
             [
              0.6666666666666666,
              "#ed7953"
             ],
             [
              0.7777777777777778,
              "#fb9f3a"
             ],
             [
              0.8888888888888888,
              "#fdca26"
             ],
             [
              1,
              "#f0f921"
             ]
            ],
            "type": "histogram2dcontour"
           }
          ],
          "mesh3d": [
           {
            "colorbar": {
             "outlinewidth": 0,
             "ticks": ""
            },
            "type": "mesh3d"
           }
          ],
          "parcoords": [
           {
            "line": {
             "colorbar": {
              "outlinewidth": 0,
              "ticks": ""
             }
            },
            "type": "parcoords"
           }
          ],
          "pie": [
           {
            "automargin": true,
            "type": "pie"
           }
          ],
          "scatter": [
           {
            "marker": {
             "colorbar": {
              "outlinewidth": 0,
              "ticks": ""
             }
            },
            "type": "scatter"
           }
          ],
          "scatter3d": [
           {
            "line": {
             "colorbar": {
              "outlinewidth": 0,
              "ticks": ""
             }
            },
            "marker": {
             "colorbar": {
              "outlinewidth": 0,
              "ticks": ""
             }
            },
            "type": "scatter3d"
           }
          ],
          "scattercarpet": [
           {
            "marker": {
             "colorbar": {
              "outlinewidth": 0,
              "ticks": ""
             }
            },
            "type": "scattercarpet"
           }
          ],
          "scattergeo": [
           {
            "marker": {
             "colorbar": {
              "outlinewidth": 0,
              "ticks": ""
             }
            },
            "type": "scattergeo"
           }
          ],
          "scattergl": [
           {
            "marker": {
             "colorbar": {
              "outlinewidth": 0,
              "ticks": ""
             }
            },
            "type": "scattergl"
           }
          ],
          "scattermapbox": [
           {
            "marker": {
             "colorbar": {
              "outlinewidth": 0,
              "ticks": ""
             }
            },
            "type": "scattermapbox"
           }
          ],
          "scatterpolar": [
           {
            "marker": {
             "colorbar": {
              "outlinewidth": 0,
              "ticks": ""
             }
            },
            "type": "scatterpolar"
           }
          ],
          "scatterpolargl": [
           {
            "marker": {
             "colorbar": {
              "outlinewidth": 0,
              "ticks": ""
             }
            },
            "type": "scatterpolargl"
           }
          ],
          "scatterternary": [
           {
            "marker": {
             "colorbar": {
              "outlinewidth": 0,
              "ticks": ""
             }
            },
            "type": "scatterternary"
           }
          ],
          "surface": [
           {
            "colorbar": {
             "outlinewidth": 0,
             "ticks": ""
            },
            "colorscale": [
             [
              0,
              "#0d0887"
             ],
             [
              0.1111111111111111,
              "#46039f"
             ],
             [
              0.2222222222222222,
              "#7201a8"
             ],
             [
              0.3333333333333333,
              "#9c179e"
             ],
             [
              0.4444444444444444,
              "#bd3786"
             ],
             [
              0.5555555555555556,
              "#d8576b"
             ],
             [
              0.6666666666666666,
              "#ed7953"
             ],
             [
              0.7777777777777778,
              "#fb9f3a"
             ],
             [
              0.8888888888888888,
              "#fdca26"
             ],
             [
              1,
              "#f0f921"
             ]
            ],
            "type": "surface"
           }
          ],
          "table": [
           {
            "cells": {
             "fill": {
              "color": "#EBF0F8"
             },
             "line": {
              "color": "white"
             }
            },
            "header": {
             "fill": {
              "color": "#C8D4E3"
             },
             "line": {
              "color": "white"
             }
            },
            "type": "table"
           }
          ]
         },
         "layout": {
          "annotationdefaults": {
           "arrowcolor": "#2a3f5f",
           "arrowhead": 0,
           "arrowwidth": 1
          },
          "coloraxis": {
           "colorbar": {
            "outlinewidth": 0,
            "ticks": ""
           }
          },
          "colorscale": {
           "diverging": [
            [
             0,
             "#8e0152"
            ],
            [
             0.1,
             "#c51b7d"
            ],
            [
             0.2,
             "#de77ae"
            ],
            [
             0.3,
             "#f1b6da"
            ],
            [
             0.4,
             "#fde0ef"
            ],
            [
             0.5,
             "#f7f7f7"
            ],
            [
             0.6,
             "#e6f5d0"
            ],
            [
             0.7,
             "#b8e186"
            ],
            [
             0.8,
             "#7fbc41"
            ],
            [
             0.9,
             "#4d9221"
            ],
            [
             1,
             "#276419"
            ]
           ],
           "sequential": [
            [
             0,
             "#0d0887"
            ],
            [
             0.1111111111111111,
             "#46039f"
            ],
            [
             0.2222222222222222,
             "#7201a8"
            ],
            [
             0.3333333333333333,
             "#9c179e"
            ],
            [
             0.4444444444444444,
             "#bd3786"
            ],
            [
             0.5555555555555556,
             "#d8576b"
            ],
            [
             0.6666666666666666,
             "#ed7953"
            ],
            [
             0.7777777777777778,
             "#fb9f3a"
            ],
            [
             0.8888888888888888,
             "#fdca26"
            ],
            [
             1,
             "#f0f921"
            ]
           ],
           "sequentialminus": [
            [
             0,
             "#0d0887"
            ],
            [
             0.1111111111111111,
             "#46039f"
            ],
            [
             0.2222222222222222,
             "#7201a8"
            ],
            [
             0.3333333333333333,
             "#9c179e"
            ],
            [
             0.4444444444444444,
             "#bd3786"
            ],
            [
             0.5555555555555556,
             "#d8576b"
            ],
            [
             0.6666666666666666,
             "#ed7953"
            ],
            [
             0.7777777777777778,
             "#fb9f3a"
            ],
            [
             0.8888888888888888,
             "#fdca26"
            ],
            [
             1,
             "#f0f921"
            ]
           ]
          },
          "colorway": [
           "#636efa",
           "#EF553B",
           "#00cc96",
           "#ab63fa",
           "#FFA15A",
           "#19d3f3",
           "#FF6692",
           "#B6E880",
           "#FF97FF",
           "#FECB52"
          ],
          "font": {
           "color": "#2a3f5f"
          },
          "geo": {
           "bgcolor": "white",
           "lakecolor": "white",
           "landcolor": "#E5ECF6",
           "showlakes": true,
           "showland": true,
           "subunitcolor": "white"
          },
          "hoverlabel": {
           "align": "left"
          },
          "hovermode": "closest",
          "mapbox": {
           "style": "light"
          },
          "paper_bgcolor": "white",
          "plot_bgcolor": "#E5ECF6",
          "polar": {
           "angularaxis": {
            "gridcolor": "white",
            "linecolor": "white",
            "ticks": ""
           },
           "bgcolor": "#E5ECF6",
           "radialaxis": {
            "gridcolor": "white",
            "linecolor": "white",
            "ticks": ""
           }
          },
          "scene": {
           "xaxis": {
            "backgroundcolor": "#E5ECF6",
            "gridcolor": "white",
            "gridwidth": 2,
            "linecolor": "white",
            "showbackground": true,
            "ticks": "",
            "zerolinecolor": "white"
           },
           "yaxis": {
            "backgroundcolor": "#E5ECF6",
            "gridcolor": "white",
            "gridwidth": 2,
            "linecolor": "white",
            "showbackground": true,
            "ticks": "",
            "zerolinecolor": "white"
           },
           "zaxis": {
            "backgroundcolor": "#E5ECF6",
            "gridcolor": "white",
            "gridwidth": 2,
            "linecolor": "white",
            "showbackground": true,
            "ticks": "",
            "zerolinecolor": "white"
           }
          },
          "shapedefaults": {
           "line": {
            "color": "#2a3f5f"
           }
          },
          "ternary": {
           "aaxis": {
            "gridcolor": "white",
            "linecolor": "white",
            "ticks": ""
           },
           "baxis": {
            "gridcolor": "white",
            "linecolor": "white",
            "ticks": ""
           },
           "bgcolor": "#E5ECF6",
           "caxis": {
            "gridcolor": "white",
            "linecolor": "white",
            "ticks": ""
           }
          },
          "title": {
           "x": 0.05
          },
          "xaxis": {
           "automargin": true,
           "gridcolor": "white",
           "linecolor": "white",
           "ticks": "",
           "title": {
            "standoff": 15
           },
           "zerolinecolor": "white",
           "zerolinewidth": 2
          },
          "yaxis": {
           "automargin": true,
           "gridcolor": "white",
           "linecolor": "white",
           "ticks": "",
           "title": {
            "standoff": 15
           },
           "zerolinecolor": "white",
           "zerolinewidth": 2
          }
         }
        },
        "title": {
         "text": "Daily New Cases"
        },
        "xaxis": {
         "anchor": "y",
         "domain": [
          0,
          1
         ],
         "title": {
          "text": "Date"
         }
        },
        "yaxis": {
         "anchor": "x",
         "domain": [
          0,
          1
         ],
         "title": {
          "text": "Daily_New_Cases"
         }
        }
       }
      }
     },
     "metadata": {}
    }
   ],
   "source": [
    "# \n",
    "fig = px.line(df_corona, x=\"Date\", y=\"Daily_New_Cases\", title='Daily New Cases', color='State')\n",
    "fig.show()"
   ]
  },
  {
   "cell_type": "code",
   "execution_count": 39,
   "metadata": {},
   "outputs": [
    {
     "output_type": "display_data",
     "data": {
      "application/vnd.plotly.v1+json": {
       "config": {
        "plotlyServerURL": "https://plot.ly"
       },
       "data": [
        {
         "hovertemplate": "State=NY<br>Date=%{x}<br>Pop_Pct=%{y}<extra></extra>",
         "legendgroup": "NY",
         "line": {
          "color": "#636efa",
          "dash": "solid"
         },
         "mode": "lines",
         "name": "NY",
         "showlegend": true,
         "type": "scatter",
         "x": [
          "2020-03-20T00:00:00",
          "2020-03-21T00:00:00",
          "2020-03-22T00:00:00",
          "2020-03-23T00:00:00",
          "2020-03-24T00:00:00",
          "2020-03-25T00:00:00",
          "2020-03-26T00:00:00",
          "2020-03-27T00:00:00",
          "2020-03-28T00:00:00",
          "2020-03-29T00:00:00",
          "2020-03-30T00:00:00",
          "2020-03-31T00:00:00",
          "2020-04-01T00:00:00",
          "2020-04-02T00:00:00",
          "2020-04-03T00:00:00",
          "2020-04-04T00:00:00",
          "2020-04-05T00:00:00",
          "2020-04-06T00:00:00",
          "2020-04-07T00:00:00",
          "2020-04-08T00:00:00",
          "2020-04-09T00:00:00",
          "2020-04-10T00:00:00",
          "2020-04-11T00:00:00",
          "2020-04-12T00:00:00",
          "2020-04-13T00:00:00",
          "2020-04-14T00:00:00",
          "2020-04-15T00:00:00",
          "2020-04-16T00:00:00",
          "2020-04-17T00:00:00",
          "2020-04-18T00:00:00",
          "2020-04-19T00:00:00",
          "2020-04-20T00:00:00",
          "2020-04-21T00:00:00",
          "2020-04-22T00:00:00",
          "2020-04-23T00:00:00",
          "2020-04-24T00:00:00",
          "2020-04-25T00:00:00",
          "2020-04-26T00:00:00",
          "2020-04-27T00:00:00",
          "2020-04-28T00:00:00",
          "2020-04-29T00:00:00",
          "2020-04-30T00:00:00",
          "2020-05-01T00:00:00",
          "2020-05-02T00:00:00",
          "2020-05-03T00:00:00",
          "2020-05-04T00:00:00",
          "2020-05-05T00:00:00"
         ],
         "xaxis": "x",
         "y": [
          0.00016231,
          0.00010599,
          0.00028930000000000004,
          0.00027244,
          0.00029334,
          0.00035492,
          0.00032424,
          0.00039247,
          0.00038556,
          0.00039422,
          0.00036083,
          0.00046921,
          0.00043097,
          0.00049739,
          0.0005652,
          0.00061189,
          0.00045081,
          0.00048580000000000004,
          0.00056977,
          0.00047862,
          0.00056015,
          0.00058738,
          0.00047697,
          0.00044980000000000004,
          0.00034136,
          0.00040491,
          0.00062013,
          0.00040608,
          0.00041231,
          0.00037705,
          0.00032833,
          0.00025947,
          0.00023724,
          0.00030382,
          0.00033573,
          0.00047139,
          0.00057796,
          0.00030196,
          0.00021341,
          0.00018326,
          0.00025037,
          0.00024894,
          0.00023309,
          0.00021224,
          0.00024835,
          0.00018565,
          0.00014704
         ],
         "yaxis": "y"
        },
        {
         "hovertemplate": "State=NJ<br>Date=%{x}<br>Pop_Pct=%{y}<extra></extra>",
         "legendgroup": "NJ",
         "line": {
          "color": "#EF553B",
          "dash": "solid"
         },
         "mode": "lines",
         "name": "NJ",
         "showlegend": true,
         "type": "scatter",
         "x": [
          "2020-03-26T00:00:00",
          "2020-03-27T00:00:00",
          "2020-03-28T00:00:00",
          "2020-03-29T00:00:00",
          "2020-03-30T00:00:00",
          "2020-03-31T00:00:00",
          "2020-04-01T00:00:00",
          "2020-04-02T00:00:00",
          "2020-04-03T00:00:00",
          "2020-04-04T00:00:00",
          "2020-04-05T00:00:00",
          "2020-04-06T00:00:00",
          "2020-04-07T00:00:00",
          "2020-04-08T00:00:00",
          "2020-04-09T00:00:00",
          "2020-04-10T00:00:00",
          "2020-04-11T00:00:00",
          "2020-04-12T00:00:00",
          "2020-04-13T00:00:00",
          "2020-04-14T00:00:00",
          "2020-04-15T00:00:00",
          "2020-04-16T00:00:00",
          "2020-04-17T00:00:00",
          "2020-04-18T00:00:00",
          "2020-04-19T00:00:00",
          "2020-04-20T00:00:00",
          "2020-04-21T00:00:00",
          "2020-04-22T00:00:00",
          "2020-04-23T00:00:00",
          "2020-04-24T00:00:00",
          "2020-04-25T00:00:00",
          "2020-04-26T00:00:00",
          "2020-04-27T00:00:00",
          "2020-04-28T00:00:00",
          "2020-04-29T00:00:00",
          "2020-04-30T00:00:00",
          "2020-05-01T00:00:00",
          "2020-05-02T00:00:00",
          "2020-05-03T00:00:00",
          "2020-05-04T00:00:00",
          "2020-05-05T00:00:00",
          "2020-05-06T00:00:00",
          "2020-05-07T00:00:00",
          "2020-05-08T00:00:00",
          "2020-05-09T00:00:00",
          "2020-05-10T00:00:00",
          "2020-05-11T00:00:00",
          "2020-05-12T00:00:00",
          "2020-05-13T00:00:00",
          "2020-05-14T00:00:00",
          "2020-05-15T00:00:00",
          "2020-05-16T00:00:00",
          "2020-05-17T00:00:00",
          "2020-05-18T00:00:00"
         ],
         "xaxis": "x",
         "y": [
          0.00026477,
          0.00020872,
          0.00024627,
          0.00024216,
          0.00034787,
          0.00022127,
          0.00038174,
          0.00035934,
          0.00046181,
          0.0004551,
          0.00036248,
          0.00038455,
          0.00035902,
          0.00032699,
          0.00038672,
          0.00038423,
          0.00038466,
          0.00039894,
          0.00029366,
          0.00026401,
          0.00024118,
          0.00046354,
          0.00034160000000000006,
          0.00031909,
          0.00041691,
          0.0003773,
          0.00038845,
          0.00037644,
          0.00045023,
          0.00023491,
          0.00035945,
          0.00037687,
          0.00023145,
          0.00029117,
          0.00026228,
          0.00026218,
          0.00027603,
          0.00027321,
          0.00039948,
          0.00020483,
          0.00025741,
          0.000149,
          0.00022279,
          0.00022733,
          0.00014813,
          0.00015505,
          0.00012184,
          0.00010377,
          0.00008635,
          0.00012768,
          0.00015982,
          0.00009782,
          0.00019487,
          0.00020331
         ],
         "yaxis": "y"
        },
        {
         "hovertemplate": "State=TX<br>Date=%{x}<br>Pop_Pct=%{y}<extra></extra>",
         "legendgroup": "TX",
         "line": {
          "color": "#00cc96",
          "dash": "solid"
         },
         "mode": "lines",
         "name": "TX",
         "showlegend": true,
         "type": "scatter",
         "x": [
          "2020-06-19T00:00:00",
          "2020-06-20T00:00:00",
          "2020-06-21T00:00:00",
          "2020-06-22T00:00:00",
          "2020-06-23T00:00:00",
          "2020-06-24T00:00:00",
          "2020-06-25T00:00:00",
          "2020-06-26T00:00:00",
          "2020-06-27T00:00:00",
          "2020-06-28T00:00:00",
          "2020-06-29T00:00:00",
          "2020-06-30T00:00:00",
          "2020-07-01T00:00:00",
          "2020-07-02T00:00:00",
          "2020-07-03T00:00:00",
          "2020-07-04T00:00:00",
          "2020-07-05T00:00:00",
          "2020-07-06T00:00:00"
         ],
         "xaxis": "x",
         "y": [
          0.0001504,
          0.0001421,
          0.00010449999999999999,
          0.000171,
          0.0001796,
          0.00020659999999999998,
          0.00019930000000000002,
          0.0001878,
          0.00020329999999999998,
          0.00014480000000000002,
          0.0002052,
          0.00026619999999999997,
          0.00027560000000000003,
          0.000252,
          0.0002456,
          0.00018,
          0.0001733,
          0.0003028
         ],
         "yaxis": "y"
        }
       ],
       "layout": {
        "legend": {
         "title": {
          "text": "State"
         },
         "tracegroupgap": 0
        },
        "template": {
         "data": {
          "bar": [
           {
            "error_x": {
             "color": "#2a3f5f"
            },
            "error_y": {
             "color": "#2a3f5f"
            },
            "marker": {
             "line": {
              "color": "#E5ECF6",
              "width": 0.5
             }
            },
            "type": "bar"
           }
          ],
          "barpolar": [
           {
            "marker": {
             "line": {
              "color": "#E5ECF6",
              "width": 0.5
             }
            },
            "type": "barpolar"
           }
          ],
          "carpet": [
           {
            "aaxis": {
             "endlinecolor": "#2a3f5f",
             "gridcolor": "white",
             "linecolor": "white",
             "minorgridcolor": "white",
             "startlinecolor": "#2a3f5f"
            },
            "baxis": {
             "endlinecolor": "#2a3f5f",
             "gridcolor": "white",
             "linecolor": "white",
             "minorgridcolor": "white",
             "startlinecolor": "#2a3f5f"
            },
            "type": "carpet"
           }
          ],
          "choropleth": [
           {
            "colorbar": {
             "outlinewidth": 0,
             "ticks": ""
            },
            "type": "choropleth"
           }
          ],
          "contour": [
           {
            "colorbar": {
             "outlinewidth": 0,
             "ticks": ""
            },
            "colorscale": [
             [
              0,
              "#0d0887"
             ],
             [
              0.1111111111111111,
              "#46039f"
             ],
             [
              0.2222222222222222,
              "#7201a8"
             ],
             [
              0.3333333333333333,
              "#9c179e"
             ],
             [
              0.4444444444444444,
              "#bd3786"
             ],
             [
              0.5555555555555556,
              "#d8576b"
             ],
             [
              0.6666666666666666,
              "#ed7953"
             ],
             [
              0.7777777777777778,
              "#fb9f3a"
             ],
             [
              0.8888888888888888,
              "#fdca26"
             ],
             [
              1,
              "#f0f921"
             ]
            ],
            "type": "contour"
           }
          ],
          "contourcarpet": [
           {
            "colorbar": {
             "outlinewidth": 0,
             "ticks": ""
            },
            "type": "contourcarpet"
           }
          ],
          "heatmap": [
           {
            "colorbar": {
             "outlinewidth": 0,
             "ticks": ""
            },
            "colorscale": [
             [
              0,
              "#0d0887"
             ],
             [
              0.1111111111111111,
              "#46039f"
             ],
             [
              0.2222222222222222,
              "#7201a8"
             ],
             [
              0.3333333333333333,
              "#9c179e"
             ],
             [
              0.4444444444444444,
              "#bd3786"
             ],
             [
              0.5555555555555556,
              "#d8576b"
             ],
             [
              0.6666666666666666,
              "#ed7953"
             ],
             [
              0.7777777777777778,
              "#fb9f3a"
             ],
             [
              0.8888888888888888,
              "#fdca26"
             ],
             [
              1,
              "#f0f921"
             ]
            ],
            "type": "heatmap"
           }
          ],
          "heatmapgl": [
           {
            "colorbar": {
             "outlinewidth": 0,
             "ticks": ""
            },
            "colorscale": [
             [
              0,
              "#0d0887"
             ],
             [
              0.1111111111111111,
              "#46039f"
             ],
             [
              0.2222222222222222,
              "#7201a8"
             ],
             [
              0.3333333333333333,
              "#9c179e"
             ],
             [
              0.4444444444444444,
              "#bd3786"
             ],
             [
              0.5555555555555556,
              "#d8576b"
             ],
             [
              0.6666666666666666,
              "#ed7953"
             ],
             [
              0.7777777777777778,
              "#fb9f3a"
             ],
             [
              0.8888888888888888,
              "#fdca26"
             ],
             [
              1,
              "#f0f921"
             ]
            ],
            "type": "heatmapgl"
           }
          ],
          "histogram": [
           {
            "marker": {
             "colorbar": {
              "outlinewidth": 0,
              "ticks": ""
             }
            },
            "type": "histogram"
           }
          ],
          "histogram2d": [
           {
            "colorbar": {
             "outlinewidth": 0,
             "ticks": ""
            },
            "colorscale": [
             [
              0,
              "#0d0887"
             ],
             [
              0.1111111111111111,
              "#46039f"
             ],
             [
              0.2222222222222222,
              "#7201a8"
             ],
             [
              0.3333333333333333,
              "#9c179e"
             ],
             [
              0.4444444444444444,
              "#bd3786"
             ],
             [
              0.5555555555555556,
              "#d8576b"
             ],
             [
              0.6666666666666666,
              "#ed7953"
             ],
             [
              0.7777777777777778,
              "#fb9f3a"
             ],
             [
              0.8888888888888888,
              "#fdca26"
             ],
             [
              1,
              "#f0f921"
             ]
            ],
            "type": "histogram2d"
           }
          ],
          "histogram2dcontour": [
           {
            "colorbar": {
             "outlinewidth": 0,
             "ticks": ""
            },
            "colorscale": [
             [
              0,
              "#0d0887"
             ],
             [
              0.1111111111111111,
              "#46039f"
             ],
             [
              0.2222222222222222,
              "#7201a8"
             ],
             [
              0.3333333333333333,
              "#9c179e"
             ],
             [
              0.4444444444444444,
              "#bd3786"
             ],
             [
              0.5555555555555556,
              "#d8576b"
             ],
             [
              0.6666666666666666,
              "#ed7953"
             ],
             [
              0.7777777777777778,
              "#fb9f3a"
             ],
             [
              0.8888888888888888,
              "#fdca26"
             ],
             [
              1,
              "#f0f921"
             ]
            ],
            "type": "histogram2dcontour"
           }
          ],
          "mesh3d": [
           {
            "colorbar": {
             "outlinewidth": 0,
             "ticks": ""
            },
            "type": "mesh3d"
           }
          ],
          "parcoords": [
           {
            "line": {
             "colorbar": {
              "outlinewidth": 0,
              "ticks": ""
             }
            },
            "type": "parcoords"
           }
          ],
          "pie": [
           {
            "automargin": true,
            "type": "pie"
           }
          ],
          "scatter": [
           {
            "marker": {
             "colorbar": {
              "outlinewidth": 0,
              "ticks": ""
             }
            },
            "type": "scatter"
           }
          ],
          "scatter3d": [
           {
            "line": {
             "colorbar": {
              "outlinewidth": 0,
              "ticks": ""
             }
            },
            "marker": {
             "colorbar": {
              "outlinewidth": 0,
              "ticks": ""
             }
            },
            "type": "scatter3d"
           }
          ],
          "scattercarpet": [
           {
            "marker": {
             "colorbar": {
              "outlinewidth": 0,
              "ticks": ""
             }
            },
            "type": "scattercarpet"
           }
          ],
          "scattergeo": [
           {
            "marker": {
             "colorbar": {
              "outlinewidth": 0,
              "ticks": ""
             }
            },
            "type": "scattergeo"
           }
          ],
          "scattergl": [
           {
            "marker": {
             "colorbar": {
              "outlinewidth": 0,
              "ticks": ""
             }
            },
            "type": "scattergl"
           }
          ],
          "scattermapbox": [
           {
            "marker": {
             "colorbar": {
              "outlinewidth": 0,
              "ticks": ""
             }
            },
            "type": "scattermapbox"
           }
          ],
          "scatterpolar": [
           {
            "marker": {
             "colorbar": {
              "outlinewidth": 0,
              "ticks": ""
             }
            },
            "type": "scatterpolar"
           }
          ],
          "scatterpolargl": [
           {
            "marker": {
             "colorbar": {
              "outlinewidth": 0,
              "ticks": ""
             }
            },
            "type": "scatterpolargl"
           }
          ],
          "scatterternary": [
           {
            "marker": {
             "colorbar": {
              "outlinewidth": 0,
              "ticks": ""
             }
            },
            "type": "scatterternary"
           }
          ],
          "surface": [
           {
            "colorbar": {
             "outlinewidth": 0,
             "ticks": ""
            },
            "colorscale": [
             [
              0,
              "#0d0887"
             ],
             [
              0.1111111111111111,
              "#46039f"
             ],
             [
              0.2222222222222222,
              "#7201a8"
             ],
             [
              0.3333333333333333,
              "#9c179e"
             ],
             [
              0.4444444444444444,
              "#bd3786"
             ],
             [
              0.5555555555555556,
              "#d8576b"
             ],
             [
              0.6666666666666666,
              "#ed7953"
             ],
             [
              0.7777777777777778,
              "#fb9f3a"
             ],
             [
              0.8888888888888888,
              "#fdca26"
             ],
             [
              1,
              "#f0f921"
             ]
            ],
            "type": "surface"
           }
          ],
          "table": [
           {
            "cells": {
             "fill": {
              "color": "#EBF0F8"
             },
             "line": {
              "color": "white"
             }
            },
            "header": {
             "fill": {
              "color": "#C8D4E3"
             },
             "line": {
              "color": "white"
             }
            },
            "type": "table"
           }
          ]
         },
         "layout": {
          "annotationdefaults": {
           "arrowcolor": "#2a3f5f",
           "arrowhead": 0,
           "arrowwidth": 1
          },
          "coloraxis": {
           "colorbar": {
            "outlinewidth": 0,
            "ticks": ""
           }
          },
          "colorscale": {
           "diverging": [
            [
             0,
             "#8e0152"
            ],
            [
             0.1,
             "#c51b7d"
            ],
            [
             0.2,
             "#de77ae"
            ],
            [
             0.3,
             "#f1b6da"
            ],
            [
             0.4,
             "#fde0ef"
            ],
            [
             0.5,
             "#f7f7f7"
            ],
            [
             0.6,
             "#e6f5d0"
            ],
            [
             0.7,
             "#b8e186"
            ],
            [
             0.8,
             "#7fbc41"
            ],
            [
             0.9,
             "#4d9221"
            ],
            [
             1,
             "#276419"
            ]
           ],
           "sequential": [
            [
             0,
             "#0d0887"
            ],
            [
             0.1111111111111111,
             "#46039f"
            ],
            [
             0.2222222222222222,
             "#7201a8"
            ],
            [
             0.3333333333333333,
             "#9c179e"
            ],
            [
             0.4444444444444444,
             "#bd3786"
            ],
            [
             0.5555555555555556,
             "#d8576b"
            ],
            [
             0.6666666666666666,
             "#ed7953"
            ],
            [
             0.7777777777777778,
             "#fb9f3a"
            ],
            [
             0.8888888888888888,
             "#fdca26"
            ],
            [
             1,
             "#f0f921"
            ]
           ],
           "sequentialminus": [
            [
             0,
             "#0d0887"
            ],
            [
             0.1111111111111111,
             "#46039f"
            ],
            [
             0.2222222222222222,
             "#7201a8"
            ],
            [
             0.3333333333333333,
             "#9c179e"
            ],
            [
             0.4444444444444444,
             "#bd3786"
            ],
            [
             0.5555555555555556,
             "#d8576b"
            ],
            [
             0.6666666666666666,
             "#ed7953"
            ],
            [
             0.7777777777777778,
             "#fb9f3a"
            ],
            [
             0.8888888888888888,
             "#fdca26"
            ],
            [
             1,
             "#f0f921"
            ]
           ]
          },
          "colorway": [
           "#636efa",
           "#EF553B",
           "#00cc96",
           "#ab63fa",
           "#FFA15A",
           "#19d3f3",
           "#FF6692",
           "#B6E880",
           "#FF97FF",
           "#FECB52"
          ],
          "font": {
           "color": "#2a3f5f"
          },
          "geo": {
           "bgcolor": "white",
           "lakecolor": "white",
           "landcolor": "#E5ECF6",
           "showlakes": true,
           "showland": true,
           "subunitcolor": "white"
          },
          "hoverlabel": {
           "align": "left"
          },
          "hovermode": "closest",
          "mapbox": {
           "style": "light"
          },
          "paper_bgcolor": "white",
          "plot_bgcolor": "#E5ECF6",
          "polar": {
           "angularaxis": {
            "gridcolor": "white",
            "linecolor": "white",
            "ticks": ""
           },
           "bgcolor": "#E5ECF6",
           "radialaxis": {
            "gridcolor": "white",
            "linecolor": "white",
            "ticks": ""
           }
          },
          "scene": {
           "xaxis": {
            "backgroundcolor": "#E5ECF6",
            "gridcolor": "white",
            "gridwidth": 2,
            "linecolor": "white",
            "showbackground": true,
            "ticks": "",
            "zerolinecolor": "white"
           },
           "yaxis": {
            "backgroundcolor": "#E5ECF6",
            "gridcolor": "white",
            "gridwidth": 2,
            "linecolor": "white",
            "showbackground": true,
            "ticks": "",
            "zerolinecolor": "white"
           },
           "zaxis": {
            "backgroundcolor": "#E5ECF6",
            "gridcolor": "white",
            "gridwidth": 2,
            "linecolor": "white",
            "showbackground": true,
            "ticks": "",
            "zerolinecolor": "white"
           }
          },
          "shapedefaults": {
           "line": {
            "color": "#2a3f5f"
           }
          },
          "ternary": {
           "aaxis": {
            "gridcolor": "white",
            "linecolor": "white",
            "ticks": ""
           },
           "baxis": {
            "gridcolor": "white",
            "linecolor": "white",
            "ticks": ""
           },
           "bgcolor": "#E5ECF6",
           "caxis": {
            "gridcolor": "white",
            "linecolor": "white",
            "ticks": ""
           }
          },
          "title": {
           "x": 0.05
          },
          "xaxis": {
           "automargin": true,
           "gridcolor": "white",
           "linecolor": "white",
           "ticks": "",
           "title": {
            "standoff": 15
           },
           "zerolinecolor": "white",
           "zerolinewidth": 2
          },
          "yaxis": {
           "automargin": true,
           "gridcolor": "white",
           "linecolor": "white",
           "ticks": "",
           "title": {
            "standoff": 15
           },
           "zerolinecolor": "white",
           "zerolinewidth": 2
          }
         }
        },
        "title": {
         "text": "Daily New Cases (% of Population)"
        },
        "xaxis": {
         "anchor": "y",
         "domain": [
          0,
          1
         ],
         "title": {
          "text": "Date"
         }
        },
        "yaxis": {
         "anchor": "x",
         "domain": [
          0,
          1
         ],
         "title": {
          "text": "Pop_Pct"
         }
        }
       }
      }
     },
     "metadata": {}
    }
   ],
   "source": [
    "# \n",
    "fig = px.line(df_corona, x=\"Date\", y=\"Pop_Pct\", title='Daily New Cases (% of Population)', color='State')\n",
    "fig.show()"
   ]
  },
  {
   "cell_type": "markdown",
   "metadata": {},
   "source": [
    "## Create a Test and Train Dataset"
   ]
  },
  {
   "cell_type": "code",
   "execution_count": 5,
   "metadata": {
    "tags": []
   },
   "outputs": [
    {
     "output_type": "stream",
     "name": "stdout",
     "text": "<class 'pandas.core.frame.DataFrame'>\nRangeIndex: 119 entries, 0 to 118\nData columns (total 19 columns):\n #   Column                 Non-Null Count  Dtype  \n---  ------                 --------------  -----  \n 0   Curve_Day              119 non-null    int64  \n 1   Pop_Pct_M1             119 non-null    float64\n 2   Pop_Pct_M2             119 non-null    float64\n 3   Pop_Pct_M3             119 non-null    float64\n 4   Pop_Pct_M4             119 non-null    float64\n 5   Pop_Pct_M5             119 non-null    float64\n 6   Pop_Pct_M6             119 non-null    float64\n 7   Pop_Pct_M7             119 non-null    float64\n 8   Three_Day_Avg_Pop_Pct  119 non-null    float64\n 9   Seven_Day_Avg_Pop_Pct  119 non-null    float64\n 10  Pct_Change_M1          119 non-null    float64\n 11  Pct_Change_M2          119 non-null    float64\n 12  Pct_Change_M3          119 non-null    float64\n 13  Pct_Change_M4          119 non-null    float64\n 14  Pct_Change_M5          119 non-null    float64\n 15  Pct_Change_M6          119 non-null    float64\n 16  Pct_Change_M7          119 non-null    float64\n 17  Three_Day_Avg_Pct_Chg  119 non-null    float64\n 18  Seven_Day_Avg_Pct_Chg  119 non-null    float64\ndtypes: float64(18), int64(1)\nmemory usage: 17.8 KB\n"
    }
   ],
   "source": [
    "y = corona_data[\"Pop_Pct\"]\n",
    "X = corona_data.drop(['index','State','Date','Pop_Pct','Daily_New_Cases','Pct_Change'], 1)\n",
    "\n",
    "X.info()"
   ]
  },
  {
   "cell_type": "markdown",
   "metadata": {},
   "source": [
    "## Perform Cross Validation for Time Series Data\n",
    "\n",
    "### Time Series Split\n",
    "**This is a form of cross validation for time series data where each fold is a superset of the previous fold, and test records are selected from records / indices which occur after the training data.**\n",
    "* Note below that each \n",
    "* https://scikit-learn.org/stable/modules/generated/sklearn.model_selection.TimeSeriesSplit.html"
   ]
  },
  {
   "cell_type": "code",
   "execution_count": 6,
   "metadata": {
    "tags": []
   },
   "outputs": [
    {
     "output_type": "stream",
     "name": "stdout",
     "text": "Fold 0 Train Records: 19 Test Records: 10\nFold 1 Train Records: 29 Test Records: 10\nFold 2 Train Records: 39 Test Records: 10\nFold 3 Train Records: 49 Test Records: 10\nFold 4 Train Records: 59 Test Records: 10\nFold 5 Train Records: 69 Test Records: 10\nFold 6 Train Records: 79 Test Records: 10\nFold 7 Train Records: 89 Test Records: 10\nFold 8 Train Records: 99 Test Records: 10\nFold 9 Train Records: 109 Test Records: 10\n"
    }
   ],
   "source": [
    "from sklearn.model_selection import TimeSeriesSplit\n",
    "\n",
    "n=10\n",
    "cv = TimeSeriesSplit(n_splits=n)\n",
    "x = cv.split(X,y)\n",
    "\n",
    "for i in range(n):\n",
    "    train, test = next(x)\n",
    "    print('Fold',i,'Train Records:',len(train),'Test Records:', len(test))"
   ]
  },
  {
   "cell_type": "markdown",
   "metadata": {},
   "source": [
    "## Scale the Dataset"
   ]
  },
  {
   "cell_type": "code",
   "execution_count": 7,
   "metadata": {},
   "outputs": [
    {
     "output_type": "execute_result",
     "data": {
      "text/plain": "(119, 19)"
     },
     "metadata": {},
     "execution_count": 7
    }
   ],
   "source": [
    "# Scale dataset converting to standard normally distributed data \n",
    "# (e.g. Gaussian with 0 mean and unit variance).\n",
    "from sklearn.preprocessing import StandardScaler\n",
    "\n",
    "#Fit to data for scaling\n",
    "scaler = StandardScaler()\n",
    "scaler.fit(X)\n",
    "\n",
    "# Transform training data\n",
    "# This makes our model's coefficients take on the same scale for \n",
    "# accurate feature importance analisys \n",
    "X_scaled = scaler.transform(X)\n",
    "\n",
    "X_scaled.shape"
   ]
  },
  {
   "cell_type": "markdown",
   "metadata": {},
   "source": [
    "### Polynomial Features \n",
    "**You may use polynomial features to perform regression on curved data**\n",
    "\n",
    "#### Helpful Links\n",
    "* https://scikit-learn.org/stable/modules/generated/sklearn.preprocessing.PolynomialFeatures.html\n",
    "* https://stackoverflow.com/questions/51906274/cannot-understand-with-sklearns-polynomialfeatures\n",
    "* https://stackoverflow.com/questions/32660231/how-to-fit-a-polynomial-curve-to-data-using-scikit-learn"
   ]
  },
  {
   "cell_type": "code",
   "execution_count": 8,
   "metadata": {},
   "outputs": [
    {
     "output_type": "execute_result",
     "data": {
      "text/plain": "(119, 210)"
     },
     "metadata": {},
     "execution_count": 8
    }
   ],
   "source": [
    "# Create polynomial features to try and let the model know we are dealing with a curve\n",
    "from sklearn.preprocessing import PolynomialFeatures\n",
    "\n",
    "poly = PolynomialFeatures(2)\n",
    "poly.fit(X_scaled)\n",
    "\n",
    "X_scaled_poly = poly.transform(X_scaled)\n",
    "\n",
    "X_scaled_poly.shape"
   ]
  },
  {
   "cell_type": "markdown",
   "metadata": {},
   "source": [
    "## Helper Functions and Metrics to Evaluate our Regression Model Performance  "
   ]
  },
  {
   "cell_type": "code",
   "execution_count": 9,
   "metadata": {},
   "outputs": [],
   "source": [
    "#Use mean absolute error (MAE) to score the regression models created \n",
    "#(the scale of MAE is identical to the response variable)\n",
    "from sklearn.metrics import mean_absolute_error, make_scorer, mean_squared_error\n",
    "\n",
    "#Function for Root mean squared error\n",
    "#https://stackoverflow.com/questions/17197492/root-mean-square-error-in-python\n",
    "def rmse(y_actual, y_predicted):\n",
    "    return np.sqrt(mean_squared_error(y_actual, y_predicted))\n",
    "\n",
    "#Function for Mean Absolute Percentage Error (MAPE) - Untested\n",
    "#Adapted from - https://stackoverflow.com/questions/42250958/how-to-optimize-mape-code-in-python\n",
    "def mape(y_actual, y_predicted): \n",
    "    mask = y_actual != 0\n",
    "    return (np.fabs(y_actual - y_predicted)/y_actual)[mask].mean() * 100\n",
    "\n",
    "#Create scorers for rmse and mape functions\n",
    "mae_scorer = make_scorer(score_func=mean_absolute_error, greater_is_better=False)\n",
    "rmse_scorer = make_scorer(score_func=rmse, greater_is_better=False)\n",
    "mape_scorer = make_scorer(score_func=mape, greater_is_better=False)\n",
    "\n",
    "#Make scorer array to pass into cross_validate() function for producing mutiple scores for each cv fold.\n",
    "errorScoring = {'MAE':  mae_scorer, \n",
    "                'RMSE': rmse_scorer,\n",
    "                'MAPE': mape_scorer\n",
    "               } "
   ]
  },
  {
   "cell_type": "code",
   "execution_count": 10,
   "metadata": {},
   "outputs": [],
   "source": [
    "from sklearn.model_selection import cross_validate\n",
    "\n",
    "def EvaluateRegressionEstimator(regEstimator, X, y, cv):\n",
    "    \n",
    "    scores = cross_validate(regEstimator, X, y, scoring=errorScoring, cv=cv, return_train_score=True)\n",
    "\n",
    "    #cross val score sign-flips the outputs of MAE\n",
    "    # https://github.com/scikit-learn/scikit-learn/issues/2439\n",
    "    scores['test_MAE'] = scores['test_MAE'] * -1\n",
    "    scores['test_MAPE'] = scores['test_MAPE'] * -1\n",
    "    scores['test_RMSE'] = scores['test_RMSE'] * -1\n",
    "\n",
    "    #print mean MAE for all folds \n",
    "    maeAvg = scores['test_MAE'].mean()\n",
    "    print_str = \"The average MAE for all cv folds is: \\t\\t\\t {maeAvg:.5}\"\n",
    "    print(print_str.format(maeAvg=maeAvg))\n",
    "\n",
    "    #print mean test_MAPE for all folds\n",
    "    scores['test_MAPE'] = scores['test_MAPE']\n",
    "    mape_avg = scores['test_MAPE'].mean()\n",
    "    print_str = \"The average MAE percentage (MAPE) for all cv folds is: \\t {mape_avg:.5}\"\n",
    "    print(print_str.format(mape_avg=mape_avg))\n",
    "\n",
    "    #print mean MAE for all folds \n",
    "    RMSEavg = scores['test_RMSE'].mean()\n",
    "    print_str = \"The average RMSE for all cv folds is: \\t\\t\\t {RMSEavg:.5}\"\n",
    "    print(print_str.format(RMSEavg=RMSEavg))\n",
    "    print('*********************************************************')\n",
    "\n",
    "    print('Cross Validation Fold Mean Error Scores')\n",
    "    scoresResults = pd.DataFrame()\n",
    "    scoresResults['MAE'] = scores['test_MAE']\n",
    "    scoresResults['MAPE'] = scores['test_MAPE']\n",
    "    scoresResults['RMSE'] = scores['test_RMSE']\n",
    "    return scoresResults"
   ]
  },
  {
   "cell_type": "markdown",
   "metadata": {},
   "source": [
    "## Linear Regression Validation"
   ]
  },
  {
   "cell_type": "code",
   "execution_count": 11,
   "metadata": {
    "tags": []
   },
   "outputs": [
    {
     "output_type": "stream",
     "name": "stdout",
     "text": "Fitting 10 folds for each of 4 candidates, totalling 40 fits\n[Parallel(n_jobs=1)]: Using backend SequentialBackend with 1 concurrent workers.\n[Parallel(n_jobs=1)]: Done  40 out of  40 | elapsed:    0.0s finished\n"
    },
    {
     "output_type": "execute_result",
     "data": {
      "text/plain": "GridSearchCV(cv=TimeSeriesSplit(max_train_size=None, n_splits=10),\n             estimator=LinearRegression(),\n             param_grid={'fit_intercept': (True, False),\n                         'normalize': (True, False)},\n             scoring=make_scorer(mean_absolute_error, greater_is_better=False),\n             verbose=1)"
     },
     "metadata": {},
     "execution_count": 11
    }
   ],
   "source": [
    "from sklearn.linear_model import LinearRegression\n",
    "\n",
    "#Create a Linear Regression object and perform a grid search to find the best parameters\n",
    "linreg = LinearRegression()\n",
    "parameters = {'normalize':(True,False), 'fit_intercept':(True,False)}\n",
    "\n",
    "#Create a grid search object using the  \n",
    "from sklearn.model_selection import GridSearchCV\n",
    "regGridSearch = GridSearchCV(estimator=linreg\n",
    "                   , verbose=1 # low verbosity\n",
    "                   , param_grid=parameters\n",
    "                   , cv=cv # KFolds = 10\n",
    "                   , scoring=mae_scorer)\n",
    "\n",
    "#Perform hyperparameter search to find the best combination of parameters for our data\n",
    "regGridSearch.fit(X_scaled_poly, y)"
   ]
  },
  {
   "cell_type": "code",
   "execution_count": 12,
   "metadata": {},
   "outputs": [
    {
     "output_type": "execute_result",
     "data": {
      "text/plain": "LinearRegression()"
     },
     "metadata": {},
     "execution_count": 12
    }
   ],
   "source": [
    "#Print the parameterization of the best estimator\n",
    "regGridSearch.best_estimator_"
   ]
  },
  {
   "cell_type": "code",
   "execution_count": 13,
   "metadata": {
    "tags": []
   },
   "outputs": [
    {
     "output_type": "stream",
     "name": "stdout",
     "text": "The average MAE for all cv folds is: \t\t\t 4.0302e-05\nThe average MAE percentage (MAPE) for all cv folds is: \t 12.912\nThe average RMSE for all cv folds is: \t\t\t 5.0675e-05\n*********************************************************\nCross Validation Fold Mean Error Scores\n"
    },
    {
     "output_type": "execute_result",
     "data": {
      "text/plain": "        MAE       MAPE      RMSE\n0  0.000076  15.702509  0.000091\n1  0.000023   5.304188  0.000033\n2  0.000105  26.965971  0.000123\n3  0.000043  12.120289  0.000058\n4  0.000031   7.491286  0.000039\n5  0.000080  36.736664  0.000109\n6  0.000028  13.984221  0.000033\n7  0.000006   4.496953  0.000008\n8  0.000008   4.769978  0.000009\n9  0.000003   1.544798  0.000004",
      "text/html": "<div>\n<style scoped>\n    .dataframe tbody tr th:only-of-type {\n        vertical-align: middle;\n    }\n\n    .dataframe tbody tr th {\n        vertical-align: top;\n    }\n\n    .dataframe thead th {\n        text-align: right;\n    }\n</style>\n<table border=\"1\" class=\"dataframe\">\n  <thead>\n    <tr style=\"text-align: right;\">\n      <th></th>\n      <th>MAE</th>\n      <th>MAPE</th>\n      <th>RMSE</th>\n    </tr>\n  </thead>\n  <tbody>\n    <tr>\n      <th>0</th>\n      <td>0.000076</td>\n      <td>15.702509</td>\n      <td>0.000091</td>\n    </tr>\n    <tr>\n      <th>1</th>\n      <td>0.000023</td>\n      <td>5.304188</td>\n      <td>0.000033</td>\n    </tr>\n    <tr>\n      <th>2</th>\n      <td>0.000105</td>\n      <td>26.965971</td>\n      <td>0.000123</td>\n    </tr>\n    <tr>\n      <th>3</th>\n      <td>0.000043</td>\n      <td>12.120289</td>\n      <td>0.000058</td>\n    </tr>\n    <tr>\n      <th>4</th>\n      <td>0.000031</td>\n      <td>7.491286</td>\n      <td>0.000039</td>\n    </tr>\n    <tr>\n      <th>5</th>\n      <td>0.000080</td>\n      <td>36.736664</td>\n      <td>0.000109</td>\n    </tr>\n    <tr>\n      <th>6</th>\n      <td>0.000028</td>\n      <td>13.984221</td>\n      <td>0.000033</td>\n    </tr>\n    <tr>\n      <th>7</th>\n      <td>0.000006</td>\n      <td>4.496953</td>\n      <td>0.000008</td>\n    </tr>\n    <tr>\n      <th>8</th>\n      <td>0.000008</td>\n      <td>4.769978</td>\n      <td>0.000009</td>\n    </tr>\n    <tr>\n      <th>9</th>\n      <td>0.000003</td>\n      <td>1.544798</td>\n      <td>0.000004</td>\n    </tr>\n  </tbody>\n</table>\n</div>"
     },
     "metadata": {},
     "execution_count": 13
    }
   ],
   "source": [
    "#Create CappedLinearRegression predictions between 0 and 100% using the best parameters for our Linear Regression object\n",
    "regEstimator = regGridSearch.best_estimator_\n",
    "\n",
    "#Evaluate the regression estimator above using our pre-defined cross validation and scoring metrics. \n",
    "#pd.set_option('display.float_format', '{:.17f}'.format)\n",
    "pd.reset_option('display.float_format')\n",
    "EvaluateRegressionEstimator(regEstimator, X_scaled_poly, y, cv)"
   ]
  },
  {
   "cell_type": "code",
   "execution_count": 14,
   "metadata": {
    "tags": []
   },
   "outputs": [
    {
     "output_type": "stream",
     "name": "stdout",
     "text": "Overall Case MAE\n1201.2025999999998\n \nCase MAE by Fold\n0  Case MAE: 2272.4\n1  Case MAE: 687.7\n2  Case MAE: 3169.4\n3  Case MAE: 1315.6\n4  Case MAE: 897.0\n5  Case MAE: 2332.2\n6  Case MAE: 837.1999999999999\n7  Case MAE: 179.4\n8  Case MAE: 239.2\n9  Case MAE: 89.7\n"
    }
   ],
   "source": [
    "# Convert the Population Percent MAE (Mean Absolute Error)\n",
    "# To a Daily New Cases MAE using the Texas Population \n",
    "Texas_Population = 29900000\n",
    "print('Overall Case MAE')\n",
    "print(Texas_Population * 4.0174e-05)\n",
    "print(\" \")\n",
    "print('Case MAE by Fold')\n",
    "print(0,\" Case MAE:\",Texas_Population * 0.000076)\n",
    "print(1,\" Case MAE:\",Texas_Population * 0.000023)\n",
    "print(2,\" Case MAE:\",Texas_Population * 0.000106)\n",
    "print(3,\" Case MAE:\",Texas_Population * 0.000044)\n",
    "print(4,\" Case MAE:\",Texas_Population * 0.000030)\n",
    "print(5,\" Case MAE:\",Texas_Population * 0.000078)\n",
    "print(6,\" Case MAE:\",Texas_Population * 0.000028)\n",
    "print(7,\" Case MAE:\",Texas_Population * 0.000006)\n",
    "print(8,\" Case MAE:\",Texas_Population * 0.000008)\n",
    "print(9,\" Case MAE:\",Texas_Population * 0.000003)"
   ]
  },
  {
   "cell_type": "markdown",
   "metadata": {},
   "source": [
    "## Lasso Regression Validation"
   ]
  },
  {
   "cell_type": "code",
   "execution_count": 15,
   "metadata": {
    "tags": []
   },
   "outputs": [
    {
     "output_type": "stream",
     "name": "stdout",
     "text": "Fitting 10 folds for each of 20 candidates, totalling 200 fits\n[Parallel(n_jobs=-1)]: Using backend LokyBackend with 4 concurrent workers.\n[Parallel(n_jobs=-1)]: Done  88 tasks      | elapsed:    1.5s\n[Parallel(n_jobs=-1)]: Done 200 out of 200 | elapsed:    1.6s finished\n"
    },
    {
     "output_type": "execute_result",
     "data": {
      "text/plain": "GridSearchCV(cv=TimeSeriesSplit(max_train_size=None, n_splits=10),\n             estimator=Lasso(max_iter=10000, normalize=True, precompute=True,\n                             random_state=0),\n             n_jobs=-1,\n             param_grid={'alpha': [0.001, 0.1, 1, 10, 20],\n                         'selection': ['cyclic', 'random'],\n                         'warm_start': [True, False]},\n             scoring=make_scorer(mean_absolute_error, greater_is_better=False),\n             verbose=1)"
     },
     "metadata": {},
     "execution_count": 15
    }
   ],
   "source": [
    "#Create a regression object and perform a grid search to find the best parameters\n",
    "from sklearn.linear_model import Lasso\n",
    "\n",
    "reg = Lasso(fit_intercept=True, normalize=True,copy_X=True\n",
    "          , max_iter=10000, precompute=True, tol=0.0001, random_state=0)\n",
    "\n",
    "#Test parameters \n",
    "alpha = [0.001, 0.1, 1, 10, 20]\n",
    "selection = ['cyclic','random']\n",
    "warm_start = [True, False]\n",
    "parameters = {'alpha': alpha, 'selection': selection, 'warm_start': warm_start}\n",
    "\n",
    "#Create a grid search object using the parameters above\n",
    "from sklearn.model_selection import GridSearchCV\n",
    "regGridSearch = GridSearchCV(estimator=reg\n",
    "                   , n_jobs=-1 # jobs to run in parallel\n",
    "                   , verbose=1 # low verbosity\n",
    "                   , param_grid=parameters\n",
    "                   , cv=cv # KFolds = 10\n",
    "                   , scoring=mae_scorer)\n",
    "\n",
    "#Perform hyperparameter search to find the best combination of parameters for our data\n",
    "regGridSearch.fit(X_scaled_poly, y)"
   ]
  },
  {
   "cell_type": "code",
   "execution_count": 16,
   "metadata": {},
   "outputs": [
    {
     "output_type": "execute_result",
     "data": {
      "text/plain": "Lasso(alpha=0.001, max_iter=10000, normalize=True, precompute=True,\n      random_state=0, warm_start=True)"
     },
     "metadata": {},
     "execution_count": 16
    }
   ],
   "source": [
    "#Print the parameterization of the best estimator\n",
    "regGridSearch.best_estimator_"
   ]
  },
  {
   "cell_type": "code",
   "execution_count": 17,
   "metadata": {
    "tags": []
   },
   "outputs": [
    {
     "output_type": "stream",
     "name": "stdout",
     "text": "The average MAE for all cv folds is: \t\t\t 0.00011749\nThe average MAE percentage (MAPE) for all cv folds is: \t 54.243\nThe average RMSE for all cv folds is: \t\t\t 0.00013243\n*********************************************************\nCross Validation Fold Mean Error Scores\n"
    },
    {
     "output_type": "execute_result",
     "data": {
      "text/plain": "        MAE        MAPE      RMSE\n0  0.000167   34.050261  0.000183\n1  0.000090   17.437702  0.000125\n2  0.000086   23.410746  0.000107\n3  0.000058   19.198983  0.000073\n4  0.000073   20.088855  0.000094\n5  0.000122   52.827885  0.000132\n6  0.000134   69.114829  0.000145\n7  0.000203  163.742139  0.000208\n8  0.000153   96.096449  0.000157\n9  0.000088   46.461249  0.000101",
      "text/html": "<div>\n<style scoped>\n    .dataframe tbody tr th:only-of-type {\n        vertical-align: middle;\n    }\n\n    .dataframe tbody tr th {\n        vertical-align: top;\n    }\n\n    .dataframe thead th {\n        text-align: right;\n    }\n</style>\n<table border=\"1\" class=\"dataframe\">\n  <thead>\n    <tr style=\"text-align: right;\">\n      <th></th>\n      <th>MAE</th>\n      <th>MAPE</th>\n      <th>RMSE</th>\n    </tr>\n  </thead>\n  <tbody>\n    <tr>\n      <th>0</th>\n      <td>0.000167</td>\n      <td>34.050261</td>\n      <td>0.000183</td>\n    </tr>\n    <tr>\n      <th>1</th>\n      <td>0.000090</td>\n      <td>17.437702</td>\n      <td>0.000125</td>\n    </tr>\n    <tr>\n      <th>2</th>\n      <td>0.000086</td>\n      <td>23.410746</td>\n      <td>0.000107</td>\n    </tr>\n    <tr>\n      <th>3</th>\n      <td>0.000058</td>\n      <td>19.198983</td>\n      <td>0.000073</td>\n    </tr>\n    <tr>\n      <th>4</th>\n      <td>0.000073</td>\n      <td>20.088855</td>\n      <td>0.000094</td>\n    </tr>\n    <tr>\n      <th>5</th>\n      <td>0.000122</td>\n      <td>52.827885</td>\n      <td>0.000132</td>\n    </tr>\n    <tr>\n      <th>6</th>\n      <td>0.000134</td>\n      <td>69.114829</td>\n      <td>0.000145</td>\n    </tr>\n    <tr>\n      <th>7</th>\n      <td>0.000203</td>\n      <td>163.742139</td>\n      <td>0.000208</td>\n    </tr>\n    <tr>\n      <th>8</th>\n      <td>0.000153</td>\n      <td>96.096449</td>\n      <td>0.000157</td>\n    </tr>\n    <tr>\n      <th>9</th>\n      <td>0.000088</td>\n      <td>46.461249</td>\n      <td>0.000101</td>\n    </tr>\n  </tbody>\n</table>\n</div>"
     },
     "metadata": {},
     "execution_count": 17
    }
   ],
   "source": [
    "#Create CappedLinearRegression predictions between 0 and 100% using the best parameters for our Linear Regression object\n",
    "regEstimator = regGridSearch.best_estimator_\n",
    "\n",
    "#Evaluate the regression estimator above using our pre-defined cross validation and scoring metrics. \n",
    "#pd.set_option('display.float_format', '{:.17f}'.format)\n",
    "pd.reset_option('display.float_format')\n",
    "EvaluateRegressionEstimator(regEstimator, X_scaled_poly, y, cv)"
   ]
  },
  {
   "cell_type": "code",
   "execution_count": 18,
   "metadata": {
    "tags": []
   },
   "outputs": [
    {
     "output_type": "stream",
     "name": "stdout",
     "text": "Overall Case MAE\n3512.951\n \nCase MAE by Fold\n0  Case MAE: 4993.3\n1  Case MAE: 2691.0\n2  Case MAE: 2571.4\n3  Case MAE: 1734.2\n4  Case MAE: 2182.7\n5  Case MAE: 3647.7999999999997\n6  Case MAE: 4006.6\n7  Case MAE: 6069.7\n8  Case MAE: 4574.7\n9  Case MAE: 2631.2\n"
    }
   ],
   "source": [
    "# Convert the Population Percent MAE (Mean Absolute Error)\n",
    "# To a Daily New Cases MAE using the Texas Population \n",
    "Texas_Population = 29900000\n",
    "print('Overall Case MAE')\n",
    "print(Texas_Population * 0.00011749)\n",
    "print(\" \")\n",
    "print('Case MAE by Fold')\n",
    "print(0,\" Case MAE:\",Texas_Population * 0.000167)\n",
    "print(1,\" Case MAE:\",Texas_Population * 0.000090)\n",
    "print(2,\" Case MAE:\",Texas_Population * 0.000086)\n",
    "print(3,\" Case MAE:\",Texas_Population * 0.000058)\n",
    "print(4,\" Case MAE:\",Texas_Population * 0.000073)\n",
    "print(5,\" Case MAE:\",Texas_Population * 0.000122)\n",
    "print(6,\" Case MAE:\",Texas_Population * 0.000134)\n",
    "print(7,\" Case MAE:\",Texas_Population * 0.000203)\n",
    "print(8,\" Case MAE:\",Texas_Population * 0.000153)\n",
    "print(9,\" Case MAE:\",Texas_Population * 0.000088)"
   ]
  },
  {
   "cell_type": "markdown",
   "metadata": {},
   "source": [
    "## Random Forest Regression Validation"
   ]
  },
  {
   "cell_type": "code",
   "execution_count": 19,
   "metadata": {
    "tags": []
   },
   "outputs": [
    {
     "output_type": "stream",
     "name": "stdout",
     "text": "Fitting 10 folds for each of 12 candidates, totalling 120 fits\n[Parallel(n_jobs=-1)]: Using backend LokyBackend with 4 concurrent workers.\n[Parallel(n_jobs=-1)]: Done  42 tasks      | elapsed:   25.7s\n[Parallel(n_jobs=-1)]: Done 120 out of 120 | elapsed:   46.7s finished\n"
    },
    {
     "output_type": "execute_result",
     "data": {
      "text/plain": "GridSearchCV(cv=TimeSeriesSplit(max_train_size=None, n_splits=10),\n             estimator=RandomForestRegressor(), n_jobs=-1,\n             param_grid={'criterion': ['mae'], 'min_samples_leaf': [10, 25, 50],\n                         'min_samples_split': [2, 3, 4, 5],\n                         'n_estimators': [500], 'n_jobs': [8],\n                         'random_state': [0]},\n             scoring=make_scorer(mean_absolute_error, greater_is_better=False),\n             verbose=1)"
     },
     "metadata": {},
     "execution_count": 19
    }
   ],
   "source": [
    "#Create a Linear Regression object and perform a grid search to find the best parameters\n",
    "from sklearn.ensemble import RandomForestRegressor\n",
    "\n",
    "linreg = RandomForestRegressor()\n",
    "parameters = { 'min_samples_split':[2,3,4,5]\n",
    "              ,'n_estimators' : [500]\n",
    "              ,'min_samples_leaf': [10, 25, 50]\n",
    "              ,'criterion': ['mae']\n",
    "              ,'n_jobs':[8] \n",
    "              ,'random_state': [0]\n",
    "             }\n",
    "\n",
    "#Create a grid search object using the  \n",
    "from sklearn.model_selection import GridSearchCV\n",
    "regGridSearch = GridSearchCV(estimator=linreg\n",
    "                   , n_jobs=-1 \n",
    "                   , verbose=1 # low verbosity\n",
    "                   , param_grid=parameters\n",
    "                   , cv=cv # KFolds = 10\n",
    "                   , scoring=mae_scorer)\n",
    "\n",
    "#Perform hyperparameter search to find the best combination of parameters for our data\n",
    "regGridSearch.fit(X_scaled_poly, y)"
   ]
  },
  {
   "cell_type": "code",
   "execution_count": 20,
   "metadata": {},
   "outputs": [
    {
     "output_type": "execute_result",
     "data": {
      "text/plain": "RandomForestRegressor(criterion='mae', min_samples_leaf=10, min_samples_split=3,\n                      n_estimators=500, n_jobs=8, random_state=0)"
     },
     "metadata": {},
     "execution_count": 20
    }
   ],
   "source": [
    "#Print the parameterization of the best estimator\n",
    "regGridSearch.best_estimator_"
   ]
  },
  {
   "cell_type": "code",
   "execution_count": 21,
   "metadata": {
    "tags": []
   },
   "outputs": [
    {
     "output_type": "stream",
     "name": "stdout",
     "text": "The average MAE for all cv folds is: \t\t\t 0.00010007\nThe average MAE percentage (MAPE) for all cv folds is: \t 45.194\nThe average RMSE for all cv folds is: \t\t\t 0.0001153\n*********************************************************\nCross Validation Fold Mean Error Scores\n"
    },
    {
     "output_type": "execute_result",
     "data": {
      "text/plain": "        MAE        MAPE      RMSE\n0  0.000164   33.426906  0.000181\n1  0.000082   15.995336  0.000116\n2  0.000077   21.397830  0.000096\n3  0.000049   15.720081  0.000062\n4  0.000064   17.517132  0.000083\n5  0.000107   46.530357  0.000116\n6  0.000127   66.819020  0.000142\n7  0.000166  136.597222  0.000173\n8  0.000100   63.669425  0.000107\n9  0.000063   34.263122  0.000077",
      "text/html": "<div>\n<style scoped>\n    .dataframe tbody tr th:only-of-type {\n        vertical-align: middle;\n    }\n\n    .dataframe tbody tr th {\n        vertical-align: top;\n    }\n\n    .dataframe thead th {\n        text-align: right;\n    }\n</style>\n<table border=\"1\" class=\"dataframe\">\n  <thead>\n    <tr style=\"text-align: right;\">\n      <th></th>\n      <th>MAE</th>\n      <th>MAPE</th>\n      <th>RMSE</th>\n    </tr>\n  </thead>\n  <tbody>\n    <tr>\n      <th>0</th>\n      <td>0.000164</td>\n      <td>33.426906</td>\n      <td>0.000181</td>\n    </tr>\n    <tr>\n      <th>1</th>\n      <td>0.000082</td>\n      <td>15.995336</td>\n      <td>0.000116</td>\n    </tr>\n    <tr>\n      <th>2</th>\n      <td>0.000077</td>\n      <td>21.397830</td>\n      <td>0.000096</td>\n    </tr>\n    <tr>\n      <th>3</th>\n      <td>0.000049</td>\n      <td>15.720081</td>\n      <td>0.000062</td>\n    </tr>\n    <tr>\n      <th>4</th>\n      <td>0.000064</td>\n      <td>17.517132</td>\n      <td>0.000083</td>\n    </tr>\n    <tr>\n      <th>5</th>\n      <td>0.000107</td>\n      <td>46.530357</td>\n      <td>0.000116</td>\n    </tr>\n    <tr>\n      <th>6</th>\n      <td>0.000127</td>\n      <td>66.819020</td>\n      <td>0.000142</td>\n    </tr>\n    <tr>\n      <th>7</th>\n      <td>0.000166</td>\n      <td>136.597222</td>\n      <td>0.000173</td>\n    </tr>\n    <tr>\n      <th>8</th>\n      <td>0.000100</td>\n      <td>63.669425</td>\n      <td>0.000107</td>\n    </tr>\n    <tr>\n      <th>9</th>\n      <td>0.000063</td>\n      <td>34.263122</td>\n      <td>0.000077</td>\n    </tr>\n  </tbody>\n</table>\n</div>"
     },
     "metadata": {},
     "execution_count": 21
    }
   ],
   "source": [
    "#Create CappedLinearRegression predictions between 0 and 100% using the best parameters for our Linear Regression object\n",
    "regEstimator = regGridSearch.best_estimator_\n",
    "\n",
    "#Evaluate the regression estimator above using our pre-defined cross validation and scoring metrics. \n",
    "#pd.set_option('display.float_format', '{:.17f}'.format)\n",
    "pd.reset_option('display.float_format')\n",
    "EvaluateRegressionEstimator(regEstimator, X_scaled_poly, y, cv)"
   ]
  },
  {
   "cell_type": "code",
   "execution_count": 22,
   "metadata": {
    "tags": []
   },
   "outputs": [
    {
     "output_type": "stream",
     "name": "stdout",
     "text": "Overall Case MAE\n2904.5159\n \nCase MAE by Fold\n0  Case MAE: 4903.6\n1  Case MAE: 2421.9\n2  Case MAE: 2242.5\n3  Case MAE: 1704.3000000000002\n4  Case MAE: 1853.8000000000002\n5  Case MAE: 2900.3\n6  Case MAE: 3348.7999999999997\n7  Case MAE: 4903.6\n8  Case MAE: 3169.4\n9  Case MAE: 1614.6\n"
    }
   ],
   "source": [
    "# Convert the Population Percent MAE (Mean Absolute Error)\n",
    "# To a Daily New Cases MAE using the Texas Population \n",
    "Texas_Population = 29900000\n",
    "print('Overall Case MAE')\n",
    "print(Texas_Population * 9.7141e-05)\n",
    "print(\" \")\n",
    "print('Case MAE by Fold')\n",
    "print(0,\" Case MAE:\",Texas_Population * 0.000164)\n",
    "print(1,\" Case MAE:\",Texas_Population * 0.000081)\n",
    "print(2,\" Case MAE:\",Texas_Population * 0.000075)\n",
    "print(3,\" Case MAE:\",Texas_Population * 0.000057)\n",
    "print(4,\" Case MAE:\",Texas_Population * 0.000062)\n",
    "print(5,\" Case MAE:\",Texas_Population * 0.000097)\n",
    "print(6,\" Case MAE:\",Texas_Population * 0.000112)\n",
    "print(7,\" Case MAE:\",Texas_Population * 0.000164)\n",
    "print(8,\" Case MAE:\",Texas_Population * 0.000106)\n",
    "print(9,\" Case MAE:\",Texas_Population * 0.000054)"
   ]
  },
  {
   "cell_type": "markdown",
   "metadata": {},
   "source": [
    "# Create Synthetic Data Using Predictions from the Model"
   ]
  },
  {
   "cell_type": "markdown",
   "metadata": {},
   "source": [
    "### Create Starting Datasets for Simulation"
   ]
  },
  {
   "cell_type": "code",
   "execution_count": 23,
   "metadata": {
    "tags": []
   },
   "outputs": [
    {
     "output_type": "error",
     "ename": "FileNotFoundError",
     "evalue": "[Errno 2] File ./../data/Corona_Curves_TX_NY_NJ.csv does not exist: './../data/Corona_Curves_TX_NY_NJ.csv'",
     "traceback": [
      "\u001b[1;31m---------------------------------------------------------------------------\u001b[0m",
      "\u001b[1;31mFileNotFoundError\u001b[0m                         Traceback (most recent call last)",
      "\u001b[1;32m<ipython-input-23-516d2e27e0be>\u001b[0m in \u001b[0;36m<module>\u001b[1;34m\u001b[0m\n\u001b[0;32m      4\u001b[0m \u001b[1;33m\u001b[0m\u001b[0m\n\u001b[0;32m      5\u001b[0m \u001b[1;31m# Load the corona curves dataset\u001b[0m\u001b[1;33m\u001b[0m\u001b[1;33m\u001b[0m\u001b[1;33m\u001b[0m\u001b[0m\n\u001b[1;32m----> 6\u001b[1;33m \u001b[0mcorona_data\u001b[0m \u001b[1;33m=\u001b[0m \u001b[0mpd\u001b[0m\u001b[1;33m.\u001b[0m\u001b[0mread_csv\u001b[0m\u001b[1;33m(\u001b[0m\u001b[1;34m\"./../data/Corona_Curves_TX_NY_NJ.csv\"\u001b[0m\u001b[1;33m,\u001b[0m\u001b[0mlow_memory\u001b[0m\u001b[1;33m=\u001b[0m\u001b[1;32mFalse\u001b[0m\u001b[1;33m)\u001b[0m\u001b[1;33m\u001b[0m\u001b[1;33m\u001b[0m\u001b[0m\n\u001b[0m\u001b[0;32m      7\u001b[0m \u001b[0mcorona_data\u001b[0m\u001b[1;33m[\u001b[0m\u001b[1;34m\"Date\"\u001b[0m\u001b[1;33m]\u001b[0m \u001b[1;33m=\u001b[0m \u001b[0mpd\u001b[0m\u001b[1;33m.\u001b[0m\u001b[0mto_datetime\u001b[0m\u001b[1;33m(\u001b[0m\u001b[0mcorona_data\u001b[0m\u001b[1;33m[\u001b[0m\u001b[1;34m\"Date\"\u001b[0m\u001b[1;33m]\u001b[0m\u001b[1;33m)\u001b[0m\u001b[1;33m\u001b[0m\u001b[1;33m\u001b[0m\u001b[0m\n\u001b[0;32m      8\u001b[0m \u001b[0mcorona_data\u001b[0m\u001b[1;33m.\u001b[0m\u001b[0msort_values\u001b[0m\u001b[1;33m(\u001b[0m\u001b[0mby\u001b[0m\u001b[1;33m=\u001b[0m\u001b[1;33m[\u001b[0m\u001b[1;34m'Date'\u001b[0m\u001b[1;33m]\u001b[0m\u001b[1;33m,\u001b[0m \u001b[0minplace\u001b[0m\u001b[1;33m=\u001b[0m\u001b[1;32mTrue\u001b[0m\u001b[1;33m)\u001b[0m\u001b[1;33m\u001b[0m\u001b[1;33m\u001b[0m\u001b[0m\n",
      "\u001b[1;32m~\\anaconda3\\envs\\ML7331\\lib\\site-packages\\pandas\\io\\parsers.py\u001b[0m in \u001b[0;36mparser_f\u001b[1;34m(filepath_or_buffer, sep, delimiter, header, names, index_col, usecols, squeeze, prefix, mangle_dupe_cols, dtype, engine, converters, true_values, false_values, skipinitialspace, skiprows, skipfooter, nrows, na_values, keep_default_na, na_filter, verbose, skip_blank_lines, parse_dates, infer_datetime_format, keep_date_col, date_parser, dayfirst, cache_dates, iterator, chunksize, compression, thousands, decimal, lineterminator, quotechar, quoting, doublequote, escapechar, comment, encoding, dialect, error_bad_lines, warn_bad_lines, delim_whitespace, low_memory, memory_map, float_precision)\u001b[0m\n\u001b[0;32m    674\u001b[0m         )\n\u001b[0;32m    675\u001b[0m \u001b[1;33m\u001b[0m\u001b[0m\n\u001b[1;32m--> 676\u001b[1;33m         \u001b[1;32mreturn\u001b[0m \u001b[0m_read\u001b[0m\u001b[1;33m(\u001b[0m\u001b[0mfilepath_or_buffer\u001b[0m\u001b[1;33m,\u001b[0m \u001b[0mkwds\u001b[0m\u001b[1;33m)\u001b[0m\u001b[1;33m\u001b[0m\u001b[1;33m\u001b[0m\u001b[0m\n\u001b[0m\u001b[0;32m    677\u001b[0m \u001b[1;33m\u001b[0m\u001b[0m\n\u001b[0;32m    678\u001b[0m     \u001b[0mparser_f\u001b[0m\u001b[1;33m.\u001b[0m\u001b[0m__name__\u001b[0m \u001b[1;33m=\u001b[0m \u001b[0mname\u001b[0m\u001b[1;33m\u001b[0m\u001b[1;33m\u001b[0m\u001b[0m\n",
      "\u001b[1;32m~\\anaconda3\\envs\\ML7331\\lib\\site-packages\\pandas\\io\\parsers.py\u001b[0m in \u001b[0;36m_read\u001b[1;34m(filepath_or_buffer, kwds)\u001b[0m\n\u001b[0;32m    446\u001b[0m \u001b[1;33m\u001b[0m\u001b[0m\n\u001b[0;32m    447\u001b[0m     \u001b[1;31m# Create the parser.\u001b[0m\u001b[1;33m\u001b[0m\u001b[1;33m\u001b[0m\u001b[1;33m\u001b[0m\u001b[0m\n\u001b[1;32m--> 448\u001b[1;33m     \u001b[0mparser\u001b[0m \u001b[1;33m=\u001b[0m \u001b[0mTextFileReader\u001b[0m\u001b[1;33m(\u001b[0m\u001b[0mfp_or_buf\u001b[0m\u001b[1;33m,\u001b[0m \u001b[1;33m**\u001b[0m\u001b[0mkwds\u001b[0m\u001b[1;33m)\u001b[0m\u001b[1;33m\u001b[0m\u001b[1;33m\u001b[0m\u001b[0m\n\u001b[0m\u001b[0;32m    449\u001b[0m \u001b[1;33m\u001b[0m\u001b[0m\n\u001b[0;32m    450\u001b[0m     \u001b[1;32mif\u001b[0m \u001b[0mchunksize\u001b[0m \u001b[1;32mor\u001b[0m \u001b[0miterator\u001b[0m\u001b[1;33m:\u001b[0m\u001b[1;33m\u001b[0m\u001b[1;33m\u001b[0m\u001b[0m\n",
      "\u001b[1;32m~\\anaconda3\\envs\\ML7331\\lib\\site-packages\\pandas\\io\\parsers.py\u001b[0m in \u001b[0;36m__init__\u001b[1;34m(self, f, engine, **kwds)\u001b[0m\n\u001b[0;32m    878\u001b[0m             \u001b[0mself\u001b[0m\u001b[1;33m.\u001b[0m\u001b[0moptions\u001b[0m\u001b[1;33m[\u001b[0m\u001b[1;34m\"has_index_names\"\u001b[0m\u001b[1;33m]\u001b[0m \u001b[1;33m=\u001b[0m \u001b[0mkwds\u001b[0m\u001b[1;33m[\u001b[0m\u001b[1;34m\"has_index_names\"\u001b[0m\u001b[1;33m]\u001b[0m\u001b[1;33m\u001b[0m\u001b[1;33m\u001b[0m\u001b[0m\n\u001b[0;32m    879\u001b[0m \u001b[1;33m\u001b[0m\u001b[0m\n\u001b[1;32m--> 880\u001b[1;33m         \u001b[0mself\u001b[0m\u001b[1;33m.\u001b[0m\u001b[0m_make_engine\u001b[0m\u001b[1;33m(\u001b[0m\u001b[0mself\u001b[0m\u001b[1;33m.\u001b[0m\u001b[0mengine\u001b[0m\u001b[1;33m)\u001b[0m\u001b[1;33m\u001b[0m\u001b[1;33m\u001b[0m\u001b[0m\n\u001b[0m\u001b[0;32m    881\u001b[0m \u001b[1;33m\u001b[0m\u001b[0m\n\u001b[0;32m    882\u001b[0m     \u001b[1;32mdef\u001b[0m \u001b[0mclose\u001b[0m\u001b[1;33m(\u001b[0m\u001b[0mself\u001b[0m\u001b[1;33m)\u001b[0m\u001b[1;33m:\u001b[0m\u001b[1;33m\u001b[0m\u001b[1;33m\u001b[0m\u001b[0m\n",
      "\u001b[1;32m~\\anaconda3\\envs\\ML7331\\lib\\site-packages\\pandas\\io\\parsers.py\u001b[0m in \u001b[0;36m_make_engine\u001b[1;34m(self, engine)\u001b[0m\n\u001b[0;32m   1112\u001b[0m     \u001b[1;32mdef\u001b[0m \u001b[0m_make_engine\u001b[0m\u001b[1;33m(\u001b[0m\u001b[0mself\u001b[0m\u001b[1;33m,\u001b[0m \u001b[0mengine\u001b[0m\u001b[1;33m=\u001b[0m\u001b[1;34m\"c\"\u001b[0m\u001b[1;33m)\u001b[0m\u001b[1;33m:\u001b[0m\u001b[1;33m\u001b[0m\u001b[1;33m\u001b[0m\u001b[0m\n\u001b[0;32m   1113\u001b[0m         \u001b[1;32mif\u001b[0m \u001b[0mengine\u001b[0m \u001b[1;33m==\u001b[0m \u001b[1;34m\"c\"\u001b[0m\u001b[1;33m:\u001b[0m\u001b[1;33m\u001b[0m\u001b[1;33m\u001b[0m\u001b[0m\n\u001b[1;32m-> 1114\u001b[1;33m             \u001b[0mself\u001b[0m\u001b[1;33m.\u001b[0m\u001b[0m_engine\u001b[0m \u001b[1;33m=\u001b[0m \u001b[0mCParserWrapper\u001b[0m\u001b[1;33m(\u001b[0m\u001b[0mself\u001b[0m\u001b[1;33m.\u001b[0m\u001b[0mf\u001b[0m\u001b[1;33m,\u001b[0m \u001b[1;33m**\u001b[0m\u001b[0mself\u001b[0m\u001b[1;33m.\u001b[0m\u001b[0moptions\u001b[0m\u001b[1;33m)\u001b[0m\u001b[1;33m\u001b[0m\u001b[1;33m\u001b[0m\u001b[0m\n\u001b[0m\u001b[0;32m   1115\u001b[0m         \u001b[1;32melse\u001b[0m\u001b[1;33m:\u001b[0m\u001b[1;33m\u001b[0m\u001b[1;33m\u001b[0m\u001b[0m\n\u001b[0;32m   1116\u001b[0m             \u001b[1;32mif\u001b[0m \u001b[0mengine\u001b[0m \u001b[1;33m==\u001b[0m \u001b[1;34m\"python\"\u001b[0m\u001b[1;33m:\u001b[0m\u001b[1;33m\u001b[0m\u001b[1;33m\u001b[0m\u001b[0m\n",
      "\u001b[1;32m~\\anaconda3\\envs\\ML7331\\lib\\site-packages\\pandas\\io\\parsers.py\u001b[0m in \u001b[0;36m__init__\u001b[1;34m(self, src, **kwds)\u001b[0m\n\u001b[0;32m   1889\u001b[0m         \u001b[0mkwds\u001b[0m\u001b[1;33m[\u001b[0m\u001b[1;34m\"usecols\"\u001b[0m\u001b[1;33m]\u001b[0m \u001b[1;33m=\u001b[0m \u001b[0mself\u001b[0m\u001b[1;33m.\u001b[0m\u001b[0musecols\u001b[0m\u001b[1;33m\u001b[0m\u001b[1;33m\u001b[0m\u001b[0m\n\u001b[0;32m   1890\u001b[0m \u001b[1;33m\u001b[0m\u001b[0m\n\u001b[1;32m-> 1891\u001b[1;33m         \u001b[0mself\u001b[0m\u001b[1;33m.\u001b[0m\u001b[0m_reader\u001b[0m \u001b[1;33m=\u001b[0m \u001b[0mparsers\u001b[0m\u001b[1;33m.\u001b[0m\u001b[0mTextReader\u001b[0m\u001b[1;33m(\u001b[0m\u001b[0msrc\u001b[0m\u001b[1;33m,\u001b[0m \u001b[1;33m**\u001b[0m\u001b[0mkwds\u001b[0m\u001b[1;33m)\u001b[0m\u001b[1;33m\u001b[0m\u001b[1;33m\u001b[0m\u001b[0m\n\u001b[0m\u001b[0;32m   1892\u001b[0m         \u001b[0mself\u001b[0m\u001b[1;33m.\u001b[0m\u001b[0munnamed_cols\u001b[0m \u001b[1;33m=\u001b[0m \u001b[0mself\u001b[0m\u001b[1;33m.\u001b[0m\u001b[0m_reader\u001b[0m\u001b[1;33m.\u001b[0m\u001b[0munnamed_cols\u001b[0m\u001b[1;33m\u001b[0m\u001b[1;33m\u001b[0m\u001b[0m\n\u001b[0;32m   1893\u001b[0m \u001b[1;33m\u001b[0m\u001b[0m\n",
      "\u001b[1;32mpandas\\_libs\\parsers.pyx\u001b[0m in \u001b[0;36mpandas._libs.parsers.TextReader.__cinit__\u001b[1;34m()\u001b[0m\n",
      "\u001b[1;32mpandas\\_libs\\parsers.pyx\u001b[0m in \u001b[0;36mpandas._libs.parsers.TextReader._setup_parser_source\u001b[1;34m()\u001b[0m\n",
      "\u001b[1;31mFileNotFoundError\u001b[0m: [Errno 2] File ./../data/Corona_Curves_TX_NY_NJ.csv does not exist: './../data/Corona_Curves_TX_NY_NJ.csv'"
     ]
    }
   ],
   "source": [
    "#import required Libraries\n",
    "import pandas as pd\n",
    "import numpy as np\n",
    "\n",
    "# Load the corona curves dataset\n",
    "corona_data = pd.read_csv(\"../../data/Corona_Curves_TX_NY_NJ.csv\",low_memory=False)\n",
    "corona_data[\"Date\"] = pd.to_datetime(corona_data[\"Date\"])\n",
    "corona_data.sort_values(by=['Date'], inplace=True)\n",
    "\n",
    "# Create the TX curve dataset \n",
    "# (we add the simulation data to this later)\n",
    "tx_curve = corona_data[corona_data['State'] == 'TX'].copy()\n",
    "\n",
    "print('Starting Training Dataset (rows, columns)')\n",
    "print('----------------------------------------------------------')\n",
    "corona_data.info(verbose=False)\n",
    "print(' ')\n",
    "print('Starting Texas Dataset')\n",
    "print('----------------------------------------------------------')\n",
    "tx_curve.info(verbose=False)"
   ]
  },
  {
   "cell_type": "markdown",
   "metadata": {},
   "source": [
    "### Run Simulation Using the Model"
   ]
  },
  {
   "cell_type": "code",
   "execution_count": 24,
   "metadata": {},
   "outputs": [
    {
     "output_type": "error",
     "ename": "NameError",
     "evalue": "name 'tx_curve' is not defined",
     "traceback": [
      "\u001b[1;31m---------------------------------------------------------------------------\u001b[0m",
      "\u001b[1;31mNameError\u001b[0m                                 Traceback (most recent call last)",
      "\u001b[1;32m<ipython-input-24-eb0ae40b29e2>\u001b[0m in \u001b[0;36m<module>\u001b[1;34m\u001b[0m\n\u001b[0;32m     25\u001b[0m \u001b[1;33m\u001b[0m\u001b[0m\n\u001b[0;32m     26\u001b[0m     \u001b[1;31m# Get the most recent curve day from the dataset\u001b[0m\u001b[1;33m\u001b[0m\u001b[1;33m\u001b[0m\u001b[1;33m\u001b[0m\u001b[0m\n\u001b[1;32m---> 27\u001b[1;33m     \u001b[0mprev_day\u001b[0m \u001b[1;33m=\u001b[0m \u001b[0mtx_curve\u001b[0m\u001b[1;33m[\u001b[0m\u001b[0mtx_curve\u001b[0m\u001b[1;33m[\u001b[0m\u001b[1;34m'Curve_Day'\u001b[0m\u001b[1;33m]\u001b[0m \u001b[1;33m==\u001b[0m \u001b[0mcurve_day\u001b[0m\u001b[1;33m]\u001b[0m\u001b[1;33m.\u001b[0m\u001b[0mcopy\u001b[0m\u001b[1;33m(\u001b[0m\u001b[1;33m)\u001b[0m\u001b[1;33m\u001b[0m\u001b[1;33m\u001b[0m\u001b[0m\n\u001b[0m\u001b[0;32m     28\u001b[0m \u001b[1;33m\u001b[0m\u001b[0m\n\u001b[0;32m     29\u001b[0m     \u001b[1;31m# Now make the synthetic data required to get a prediction from the model for the next day\u001b[0m\u001b[1;33m\u001b[0m\u001b[1;33m\u001b[0m\u001b[1;33m\u001b[0m\u001b[0m\n",
      "\u001b[1;31mNameError\u001b[0m: name 'tx_curve' is not defined"
     ]
    }
   ],
   "source": [
    "from sklearn.linear_model import LinearRegression\n",
    "from sklearn.linear_model import Lasso\n",
    "from sklearn.preprocessing import StandardScaler\n",
    "from sklearn.preprocessing import PolynomialFeatures\n",
    "import datetime\n",
    "\n",
    "# Retrain the model using the prior day's synthetic data\n",
    "reg = Lasso(alpha=0.001, copy_X=True, fit_intercept=True, max_iter=10000,\n",
    "      normalize=True, positive=False, precompute=True, random_state=0,\n",
    "      selection='cyclic', tol=0.0001, warm_start=True)\n",
    "\n",
    "scaler = StandardScaler()\n",
    "poly = PolynomialFeatures(4)\n",
    "Texas_Population = 29900000\n",
    "\n",
    "for curve_day in range(18,55):\n",
    "    # create the training dataset using the most recent synthetic data for each iteration\n",
    "    y_syn = corona_data[\"Pop_Pct\"]\n",
    "    X_syn = corona_data.drop(['State','Date','Pop_Pct','Daily_New_Cases','Pct_Change'], 1)\n",
    "    # Scale tarining dataset and create polynomial features (bends our regression line into a curve)\n",
    "    X_syn_scaled = scaler.fit_transform(X_syn)\n",
    "    X_syn_scaled_poly = poly.fit_transform(X_syn_scaled)\n",
    "    # Fit model with the most recent synthetic training data\n",
    "    reg.fit(X_syn_scaled_poly,y_syn)\n",
    "    \n",
    "    # Get the most recent curve day from the dataset\n",
    "    prev_day = tx_curve[tx_curve['Curve_Day'] == curve_day].copy()\n",
    "    \n",
    "    # Now make the synthetic data required to get a prediction from the model for the next day  \n",
    "    cur_day = tx_curve[tx_curve['Curve_Day'] == curve_day].copy()\n",
    "    \n",
    "    # Create the synthetic data for the curve day\n",
    "    cur_day['Curve_Day'] = cur_day['Curve_Day'] + 1\n",
    "    \n",
    "    # Create the synthetic data for Pop_Pct\n",
    "    cur_day['Pop_Pct_M7'] = cur_day['Pop_Pct_M6']\n",
    "    cur_day['Pop_Pct_M6'] = cur_day['Pop_Pct_M5']\n",
    "    cur_day['Pop_Pct_M5'] = cur_day['Pop_Pct_M4']\n",
    "    cur_day['Pop_Pct_M4'] = cur_day['Pop_Pct_M3']\n",
    "    cur_day['Pop_Pct_M3'] = cur_day['Pop_Pct_M2']\n",
    "    cur_day['Pop_Pct_M2'] = cur_day['Pop_Pct_M1']\n",
    "    cur_day['Pop_Pct_M1'] = cur_day['Pop_Pct']\n",
    "    \n",
    "    # Create the synthetic data for Pop_Pct averages\n",
    "    cur_day['Three_Day_Avg_Pop_Pct'] = cur_day[['Pop_Pct_M1','Pop_Pct_M2','Pop_Pct_M3']].mean(axis=1) \n",
    "    cur_day['Seven_Day_Avg_Pop_Pct'] = cur_day[['Pop_Pct_M1','Pop_Pct_M2','Pop_Pct_M3',\n",
    "                                                'Pop_Pct_M4','Pop_Pct_M5','Pop_Pct_M6','Pop_Pct_M7']].mean(axis=1) \n",
    "    \n",
    "    # Create the synthetic data for Pct_Change\n",
    "    cur_day['Pct_Change_M7'] = cur_day['Pct_Change_M6']\n",
    "    cur_day['Pct_Change_M6'] = cur_day['Pct_Change_M5']\n",
    "    cur_day['Pct_Change_M5'] = cur_day['Pct_Change_M4']\n",
    "    cur_day['Pct_Change_M4'] = cur_day['Pct_Change_M3']\n",
    "    cur_day['Pct_Change_M3'] = cur_day['Pct_Change_M2']\n",
    "    cur_day['Pct_Change_M2'] = cur_day['Pct_Change_M1']\n",
    "    cur_day['Pct_Change_M1'] = cur_day['Pct_Change']\n",
    "    \n",
    "    # Create the synthetic data for Pct_Change averages\n",
    "    cur_day['Three_Day_Avg_Pct_Chg'] = cur_day[['Pct_Change_M1','Pct_Change_M2','Pct_Change_M3']].mean(axis=1) \n",
    "    cur_day['Seven_Day_Avg_Pct_Chg'] = cur_day[['Pct_Change_M1','Pct_Change_M2','Pct_Change_M3',\n",
    "                                                'Pct_Change_M4','Pct_Change_M5','Pct_Change_M6','Pct_Change_M7']].mean(axis=1)\n",
    "    \n",
    "    #Make cur_day_X and scale\n",
    "    cur_day_X = cur_day.drop(['State','Date','Pop_Pct','Daily_New_Cases','Pct_Change'], 1)\n",
    "    cur_day_X_scaled = scaler.transform(cur_day_X)\n",
    "    cur_day_X_poly = poly.transform(cur_day_X_scaled)\n",
    "    \n",
    "    #Get the predicted Pop_Pct using the model\n",
    "    cur_day_pop_pct = reg.predict(cur_day_X_poly)\n",
    "    \n",
    "    #Finish creating the data for this day's record\n",
    "    cur_day['Date'] = cur_day['Date'] + datetime.timedelta(days=1)\n",
    "    cur_day['Pop_Pct'] = cur_day_pop_pct\n",
    "    cur_day['Pct_Change'] = cur_day['Pop_Pct'] - prev_day['Pct_Change'] \n",
    "    cur_day['Daily_New_Cases'] = np.rint(cur_day['Pop_Pct'] * Texas_Population).astype(int)\n",
    "    \n",
    "    # Append the current day's predicted data to the Texas curve simulation output\n",
    "    tx_curve = tx_curve.append(cur_day)\n",
    "    # Append the current day's predicted data to our training dataset as a feedback loop\n",
    "    corona_data = corona_data.append(cur_day)"
   ]
  },
  {
   "cell_type": "markdown",
   "metadata": {},
   "source": [
    "### What do our synthetic data predictions look like?\n",
    "**Currently each of the models tested seem to perform reasonable during cross validation, but do a poor job of making a curve.**\n",
    "\n",
    "### Can you do it better???"
   ]
  },
  {
   "cell_type": "code",
   "execution_count": 25,
   "metadata": {
    "scrolled": false
   },
   "outputs": [
    {
     "output_type": "error",
     "ename": "NameError",
     "evalue": "name 'tx_curve' is not defined",
     "traceback": [
      "\u001b[1;31m---------------------------------------------------------------------------\u001b[0m",
      "\u001b[1;31mNameError\u001b[0m                                 Traceback (most recent call last)",
      "\u001b[1;32m<ipython-input-25-a844dcf6625a>\u001b[0m in \u001b[0;36m<module>\u001b[1;34m\u001b[0m\n\u001b[0;32m      1\u001b[0m \u001b[0mpd\u001b[0m\u001b[1;33m.\u001b[0m\u001b[0mset_option\u001b[0m\u001b[1;33m(\u001b[0m\u001b[1;34m'display.max_columns'\u001b[0m\u001b[1;33m,\u001b[0m \u001b[1;36m500\u001b[0m\u001b[1;33m)\u001b[0m\u001b[1;33m\u001b[0m\u001b[1;33m\u001b[0m\u001b[0m\n\u001b[1;32m----> 2\u001b[1;33m \u001b[0mtx_curve\u001b[0m\u001b[1;33m\u001b[0m\u001b[1;33m\u001b[0m\u001b[0m\n\u001b[0m",
      "\u001b[1;31mNameError\u001b[0m: name 'tx_curve' is not defined"
     ]
    }
   ],
   "source": [
    "pd.set_option('display.max_columns', 500)\n",
    "tx_curve"
   ]
  },
  {
   "cell_type": "code",
   "execution_count": null,
   "metadata": {},
   "outputs": [],
   "source": []
  }
 ],
 "metadata": {
  "kernelspec": {
   "display_name": "Python 3",
   "language": "python",
   "name": "python3"
  },
  "language_info": {
   "codemirror_mode": {
    "name": "ipython",
    "version": 3
   },
   "file_extension": ".py",
   "mimetype": "text/x-python",
   "name": "python",
   "nbconvert_exporter": "python",
   "pygments_lexer": "ipython3",
   "version": "3.7.1"
  }
 },
 "nbformat": 4,
 "nbformat_minor": 4
}